{
 "cells": [
  {
   "cell_type": "markdown",
   "metadata": {},
   "source": [
    "# Sigmoid Data Challenge"
   ]
  },
  {
   "cell_type": "markdown",
   "metadata": {},
   "source": [
    "**Note to Viewer**: This notebook shows my entire workflow for model selection. If you just want to see my final output, scroll down to the bottom to see the final model and result."
   ]
  },
  {
   "cell_type": "code",
   "execution_count": 1,
   "metadata": {},
   "outputs": [],
   "source": [
    "import numpy as np\n",
    "import pandas as pd"
   ]
  },
  {
   "cell_type": "code",
   "execution_count": 2,
   "metadata": {},
   "outputs": [
    {
     "name": "stderr",
     "output_type": "stream",
     "text": [
      "/opt/conda/lib/python3.6/site-packages/sklearn/cross_validation.py:41: DeprecationWarning: This module was deprecated in version 0.18 in favor of the model_selection module into which all the refactored classes and functions are moved. Also note that the interface of the new CV iterators are different from that of this module. This module will be removed in 0.20.\n",
      "  \"This module will be removed in 0.20.\", DeprecationWarning)\n"
     ]
    }
   ],
   "source": [
    "from sklearn.model_selection import train_test_split\n",
    "\n",
    "# Models\n",
    "from sklearn.linear_model import Lasso\n",
    "from sklearn.svm import SVR\n",
    "from sklearn.ensemble import RandomForestRegressor\n",
    "from sklearn.neighbors import KNeighborsRegressor\n",
    "import xgboost\n",
    "from sklearn.kernel_ridge import KernelRidge\n",
    "\n",
    "from sklearn.linear_model import BayesianRidge\n",
    "\n",
    "from sklearn.linear_model import SGDRegressor\n",
    "\n",
    "from sklearn.ensemble import AdaBoostRegressor\n",
    "\n",
    "from sklearn.kernel_approximation import RBFSampler\n",
    "\n",
    "# Preprocessing\n",
    "from sklearn.preprocessing import normalize, StandardScaler\n",
    "\n",
    "# Matplotlib \n",
    "import matplotlib.pyplot as plt"
   ]
  },
  {
   "cell_type": "markdown",
   "metadata": {},
   "source": [
    "# Data Cleaning and Preprocessing"
   ]
  },
  {
   "cell_type": "code",
   "execution_count": 5,
   "metadata": {},
   "outputs": [],
   "source": [
    "train_df = pd.read_csv('../../Data/Sigmoid/training_data.csv') "
   ]
  },
  {
   "cell_type": "code",
   "execution_count": 6,
   "metadata": {},
   "outputs": [],
   "source": [
    "test_df = pd.read_csv('../../Data/Sigmoid/test_data.csv') "
   ]
  },
  {
   "cell_type": "code",
   "execution_count": 7,
   "metadata": {},
   "outputs": [],
   "source": [
    "test_df.set_index('url_id', inplace=True)\n",
    "\n",
    "train_df.set_index('url_id', inplace=True)"
   ]
  },
  {
   "cell_type": "markdown",
   "metadata": {},
   "source": [
    "A quick look at the data:"
   ]
  },
  {
   "cell_type": "code",
   "execution_count": 8,
   "metadata": {},
   "outputs": [
    {
     "data": {
      "text/html": [
       "<div>\n",
       "<style scoped>\n",
       "    .dataframe tbody tr th:only-of-type {\n",
       "        vertical-align: middle;\n",
       "    }\n",
       "\n",
       "    .dataframe tbody tr th {\n",
       "        vertical-align: top;\n",
       "    }\n",
       "\n",
       "    .dataframe thead th {\n",
       "        text-align: right;\n",
       "    }\n",
       "</style>\n",
       "<table border=\"1\" class=\"dataframe\">\n",
       "  <thead>\n",
       "    <tr style=\"text-align: right;\">\n",
       "      <th></th>\n",
       "      <th>timedelta</th>\n",
       "      <th>n_tokens_title</th>\n",
       "      <th>n_tokens_content</th>\n",
       "      <th>n_unique_tokens</th>\n",
       "      <th>n_non_stop_words</th>\n",
       "      <th>n_non_stop_unique_tokens</th>\n",
       "      <th>num_hrefs</th>\n",
       "      <th>num_self_hrefs</th>\n",
       "      <th>num_imgs</th>\n",
       "      <th>num_videos</th>\n",
       "      <th>...</th>\n",
       "      <th>min_positive_polarity</th>\n",
       "      <th>max_positive_polarity</th>\n",
       "      <th>avg_negative_polarity</th>\n",
       "      <th>min_negative_polarity</th>\n",
       "      <th>max_negative_polarity</th>\n",
       "      <th>title_subjectivity</th>\n",
       "      <th>title_sentiment_polarity</th>\n",
       "      <th>abs_title_subjectivity</th>\n",
       "      <th>abs_title_sentiment_polarity</th>\n",
       "      <th>shares</th>\n",
       "    </tr>\n",
       "    <tr>\n",
       "      <th>url_id</th>\n",
       "      <th></th>\n",
       "      <th></th>\n",
       "      <th></th>\n",
       "      <th></th>\n",
       "      <th></th>\n",
       "      <th></th>\n",
       "      <th></th>\n",
       "      <th></th>\n",
       "      <th></th>\n",
       "      <th></th>\n",
       "      <th></th>\n",
       "      <th></th>\n",
       "      <th></th>\n",
       "      <th></th>\n",
       "      <th></th>\n",
       "      <th></th>\n",
       "      <th></th>\n",
       "      <th></th>\n",
       "      <th></th>\n",
       "      <th></th>\n",
       "      <th></th>\n",
       "    </tr>\n",
       "  </thead>\n",
       "  <tbody>\n",
       "    <tr>\n",
       "      <th>15610</th>\n",
       "      <td>430</td>\n",
       "      <td>8</td>\n",
       "      <td>145</td>\n",
       "      <td>0.696296</td>\n",
       "      <td>1.0</td>\n",
       "      <td>0.817073</td>\n",
       "      <td>4</td>\n",
       "      <td>3</td>\n",
       "      <td>1</td>\n",
       "      <td>0</td>\n",
       "      <td>...</td>\n",
       "      <td>0.50</td>\n",
       "      <td>0.50</td>\n",
       "      <td>-0.140741</td>\n",
       "      <td>-0.166667</td>\n",
       "      <td>-0.100000</td>\n",
       "      <td>0.000000</td>\n",
       "      <td>0.00</td>\n",
       "      <td>0.500000</td>\n",
       "      <td>0.00</td>\n",
       "      <td>2500</td>\n",
       "    </tr>\n",
       "    <tr>\n",
       "      <th>18129</th>\n",
       "      <td>375</td>\n",
       "      <td>12</td>\n",
       "      <td>233</td>\n",
       "      <td>0.632287</td>\n",
       "      <td>1.0</td>\n",
       "      <td>0.794118</td>\n",
       "      <td>5</td>\n",
       "      <td>1</td>\n",
       "      <td>1</td>\n",
       "      <td>1</td>\n",
       "      <td>...</td>\n",
       "      <td>0.10</td>\n",
       "      <td>0.25</td>\n",
       "      <td>-0.211111</td>\n",
       "      <td>-0.300000</td>\n",
       "      <td>-0.166667</td>\n",
       "      <td>0.200000</td>\n",
       "      <td>-0.15</td>\n",
       "      <td>0.300000</td>\n",
       "      <td>0.15</td>\n",
       "      <td>790</td>\n",
       "    </tr>\n",
       "    <tr>\n",
       "      <th>26680</th>\n",
       "      <td>212</td>\n",
       "      <td>9</td>\n",
       "      <td>1096</td>\n",
       "      <td>0.424440</td>\n",
       "      <td>1.0</td>\n",
       "      <td>0.602465</td>\n",
       "      <td>6</td>\n",
       "      <td>4</td>\n",
       "      <td>3</td>\n",
       "      <td>5</td>\n",
       "      <td>...</td>\n",
       "      <td>0.05</td>\n",
       "      <td>1.00</td>\n",
       "      <td>-0.319477</td>\n",
       "      <td>-1.000000</td>\n",
       "      <td>-0.012500</td>\n",
       "      <td>0.333333</td>\n",
       "      <td>0.25</td>\n",
       "      <td>0.166667</td>\n",
       "      <td>0.25</td>\n",
       "      <td>1800</td>\n",
       "    </tr>\n",
       "    <tr>\n",
       "      <th>8499</th>\n",
       "      <td>570</td>\n",
       "      <td>11</td>\n",
       "      <td>509</td>\n",
       "      <td>0.510121</td>\n",
       "      <td>1.0</td>\n",
       "      <td>0.620061</td>\n",
       "      <td>17</td>\n",
       "      <td>9</td>\n",
       "      <td>6</td>\n",
       "      <td>0</td>\n",
       "      <td>...</td>\n",
       "      <td>0.10</td>\n",
       "      <td>1.00</td>\n",
       "      <td>-0.187500</td>\n",
       "      <td>-0.187500</td>\n",
       "      <td>-0.187500</td>\n",
       "      <td>0.000000</td>\n",
       "      <td>0.00</td>\n",
       "      <td>0.500000</td>\n",
       "      <td>0.00</td>\n",
       "      <td>847</td>\n",
       "    </tr>\n",
       "    <tr>\n",
       "      <th>31053</th>\n",
       "      <td>142</td>\n",
       "      <td>11</td>\n",
       "      <td>243</td>\n",
       "      <td>0.599174</td>\n",
       "      <td>1.0</td>\n",
       "      <td>0.772059</td>\n",
       "      <td>4</td>\n",
       "      <td>3</td>\n",
       "      <td>1</td>\n",
       "      <td>0</td>\n",
       "      <td>...</td>\n",
       "      <td>0.10</td>\n",
       "      <td>0.50</td>\n",
       "      <td>-0.150000</td>\n",
       "      <td>-0.200000</td>\n",
       "      <td>-0.100000</td>\n",
       "      <td>0.000000</td>\n",
       "      <td>0.00</td>\n",
       "      <td>0.500000</td>\n",
       "      <td>0.00</td>\n",
       "      <td>3000</td>\n",
       "    </tr>\n",
       "    <tr>\n",
       "      <th>31733</th>\n",
       "      <td>132</td>\n",
       "      <td>10</td>\n",
       "      <td>152</td>\n",
       "      <td>0.556291</td>\n",
       "      <td>1.0</td>\n",
       "      <td>0.572816</td>\n",
       "      <td>8</td>\n",
       "      <td>2</td>\n",
       "      <td>5</td>\n",
       "      <td>0</td>\n",
       "      <td>...</td>\n",
       "      <td>0.10</td>\n",
       "      <td>0.60</td>\n",
       "      <td>-0.397222</td>\n",
       "      <td>-0.666667</td>\n",
       "      <td>-0.125000</td>\n",
       "      <td>0.900000</td>\n",
       "      <td>0.60</td>\n",
       "      <td>0.400000</td>\n",
       "      <td>0.60</td>\n",
       "      <td>1300</td>\n",
       "    </tr>\n",
       "    <tr>\n",
       "      <th>21588</th>\n",
       "      <td>305</td>\n",
       "      <td>12</td>\n",
       "      <td>980</td>\n",
       "      <td>0.478353</td>\n",
       "      <td>1.0</td>\n",
       "      <td>0.670819</td>\n",
       "      <td>23</td>\n",
       "      <td>1</td>\n",
       "      <td>1</td>\n",
       "      <td>0</td>\n",
       "      <td>...</td>\n",
       "      <td>0.05</td>\n",
       "      <td>1.00</td>\n",
       "      <td>-0.308796</td>\n",
       "      <td>-1.000000</td>\n",
       "      <td>-0.100000</td>\n",
       "      <td>0.000000</td>\n",
       "      <td>0.00</td>\n",
       "      <td>0.500000</td>\n",
       "      <td>0.00</td>\n",
       "      <td>2100</td>\n",
       "    </tr>\n",
       "    <tr>\n",
       "      <th>34283</th>\n",
       "      <td>91</td>\n",
       "      <td>10</td>\n",
       "      <td>1059</td>\n",
       "      <td>0.462500</td>\n",
       "      <td>1.0</td>\n",
       "      <td>0.638199</td>\n",
       "      <td>1</td>\n",
       "      <td>1</td>\n",
       "      <td>11</td>\n",
       "      <td>1</td>\n",
       "      <td>...</td>\n",
       "      <td>0.05</td>\n",
       "      <td>0.80</td>\n",
       "      <td>-0.253472</td>\n",
       "      <td>-0.600000</td>\n",
       "      <td>-0.100000</td>\n",
       "      <td>0.000000</td>\n",
       "      <td>0.00</td>\n",
       "      <td>0.500000</td>\n",
       "      <td>0.00</td>\n",
       "      <td>2200</td>\n",
       "    </tr>\n",
       "    <tr>\n",
       "      <th>22030</th>\n",
       "      <td>296</td>\n",
       "      <td>13</td>\n",
       "      <td>849</td>\n",
       "      <td>0.492857</td>\n",
       "      <td>1.0</td>\n",
       "      <td>0.718686</td>\n",
       "      <td>5</td>\n",
       "      <td>1</td>\n",
       "      <td>2</td>\n",
       "      <td>1</td>\n",
       "      <td>...</td>\n",
       "      <td>0.05</td>\n",
       "      <td>0.60</td>\n",
       "      <td>-0.295288</td>\n",
       "      <td>-1.000000</td>\n",
       "      <td>-0.125000</td>\n",
       "      <td>0.000000</td>\n",
       "      <td>0.00</td>\n",
       "      <td>0.500000</td>\n",
       "      <td>0.00</td>\n",
       "      <td>779</td>\n",
       "    </tr>\n",
       "    <tr>\n",
       "      <th>3275</th>\n",
       "      <td>674</td>\n",
       "      <td>9</td>\n",
       "      <td>333</td>\n",
       "      <td>0.737864</td>\n",
       "      <td>1.0</td>\n",
       "      <td>0.870192</td>\n",
       "      <td>1</td>\n",
       "      <td>1</td>\n",
       "      <td>0</td>\n",
       "      <td>21</td>\n",
       "      <td>...</td>\n",
       "      <td>0.10</td>\n",
       "      <td>1.00</td>\n",
       "      <td>-0.298627</td>\n",
       "      <td>-0.600000</td>\n",
       "      <td>-0.050000</td>\n",
       "      <td>1.000000</td>\n",
       "      <td>0.50</td>\n",
       "      <td>0.500000</td>\n",
       "      <td>0.50</td>\n",
       "      <td>26400</td>\n",
       "    </tr>\n",
       "  </tbody>\n",
       "</table>\n",
       "<p>10 rows × 60 columns</p>\n",
       "</div>"
      ],
      "text/plain": [
       "         timedelta   n_tokens_title   n_tokens_content   n_unique_tokens  \\\n",
       "url_id                                                                     \n",
       "15610          430                8                145          0.696296   \n",
       "18129          375               12                233          0.632287   \n",
       "26680          212                9               1096          0.424440   \n",
       "8499           570               11                509          0.510121   \n",
       "31053          142               11                243          0.599174   \n",
       "31733          132               10                152          0.556291   \n",
       "21588          305               12                980          0.478353   \n",
       "34283           91               10               1059          0.462500   \n",
       "22030          296               13                849          0.492857   \n",
       "3275           674                9                333          0.737864   \n",
       "\n",
       "         n_non_stop_words   n_non_stop_unique_tokens   num_hrefs  \\\n",
       "url_id                                                             \n",
       "15610                 1.0                   0.817073           4   \n",
       "18129                 1.0                   0.794118           5   \n",
       "26680                 1.0                   0.602465           6   \n",
       "8499                  1.0                   0.620061          17   \n",
       "31053                 1.0                   0.772059           4   \n",
       "31733                 1.0                   0.572816           8   \n",
       "21588                 1.0                   0.670819          23   \n",
       "34283                 1.0                   0.638199           1   \n",
       "22030                 1.0                   0.718686           5   \n",
       "3275                  1.0                   0.870192           1   \n",
       "\n",
       "         num_self_hrefs   num_imgs   num_videos   ...     \\\n",
       "url_id                                            ...      \n",
       "15610                 3          1            0   ...      \n",
       "18129                 1          1            1   ...      \n",
       "26680                 4          3            5   ...      \n",
       "8499                  9          6            0   ...      \n",
       "31053                 3          1            0   ...      \n",
       "31733                 2          5            0   ...      \n",
       "21588                 1          1            0   ...      \n",
       "34283                 1         11            1   ...      \n",
       "22030                 1          2            1   ...      \n",
       "3275                  1          0           21   ...      \n",
       "\n",
       "         min_positive_polarity   max_positive_polarity  \\\n",
       "url_id                                                   \n",
       "15610                     0.50                    0.50   \n",
       "18129                     0.10                    0.25   \n",
       "26680                     0.05                    1.00   \n",
       "8499                      0.10                    1.00   \n",
       "31053                     0.10                    0.50   \n",
       "31733                     0.10                    0.60   \n",
       "21588                     0.05                    1.00   \n",
       "34283                     0.05                    0.80   \n",
       "22030                     0.05                    0.60   \n",
       "3275                      0.10                    1.00   \n",
       "\n",
       "         avg_negative_polarity   min_negative_polarity  \\\n",
       "url_id                                                   \n",
       "15610                -0.140741               -0.166667   \n",
       "18129                -0.211111               -0.300000   \n",
       "26680                -0.319477               -1.000000   \n",
       "8499                 -0.187500               -0.187500   \n",
       "31053                -0.150000               -0.200000   \n",
       "31733                -0.397222               -0.666667   \n",
       "21588                -0.308796               -1.000000   \n",
       "34283                -0.253472               -0.600000   \n",
       "22030                -0.295288               -1.000000   \n",
       "3275                 -0.298627               -0.600000   \n",
       "\n",
       "         max_negative_polarity   title_subjectivity  \\\n",
       "url_id                                                \n",
       "15610                -0.100000             0.000000   \n",
       "18129                -0.166667             0.200000   \n",
       "26680                -0.012500             0.333333   \n",
       "8499                 -0.187500             0.000000   \n",
       "31053                -0.100000             0.000000   \n",
       "31733                -0.125000             0.900000   \n",
       "21588                -0.100000             0.000000   \n",
       "34283                -0.100000             0.000000   \n",
       "22030                -0.125000             0.000000   \n",
       "3275                 -0.050000             1.000000   \n",
       "\n",
       "         title_sentiment_polarity   abs_title_subjectivity  \\\n",
       "url_id                                                       \n",
       "15610                        0.00                 0.500000   \n",
       "18129                       -0.15                 0.300000   \n",
       "26680                        0.25                 0.166667   \n",
       "8499                         0.00                 0.500000   \n",
       "31053                        0.00                 0.500000   \n",
       "31733                        0.60                 0.400000   \n",
       "21588                        0.00                 0.500000   \n",
       "34283                        0.00                 0.500000   \n",
       "22030                        0.00                 0.500000   \n",
       "3275                         0.50                 0.500000   \n",
       "\n",
       "         abs_title_sentiment_polarity   shares  \n",
       "url_id                                          \n",
       "15610                            0.00     2500  \n",
       "18129                            0.15      790  \n",
       "26680                            0.25     1800  \n",
       "8499                             0.00      847  \n",
       "31053                            0.00     3000  \n",
       "31733                            0.60     1300  \n",
       "21588                            0.00     2100  \n",
       "34283                            0.00     2200  \n",
       "22030                            0.00      779  \n",
       "3275                             0.50    26400  \n",
       "\n",
       "[10 rows x 60 columns]"
      ]
     },
     "execution_count": 8,
     "metadata": {},
     "output_type": "execute_result"
    }
   ],
   "source": [
    "train_df.sample(10)"
   ]
  },
  {
   "cell_type": "code",
   "execution_count": 9,
   "metadata": {},
   "outputs": [
    {
     "data": {
      "text/plain": [
       "28786"
      ]
     },
     "execution_count": 9,
     "metadata": {},
     "output_type": "execute_result"
    }
   ],
   "source": [
    "train_df.shape[0]"
   ]
  },
  {
   "cell_type": "markdown",
   "metadata": {},
   "source": [
    "Feature Names"
   ]
  },
  {
   "cell_type": "code",
   "execution_count": 10,
   "metadata": {},
   "outputs": [
    {
     "data": {
      "text/plain": [
       "[' timedelta',\n",
       " ' n_tokens_title',\n",
       " ' n_tokens_content',\n",
       " ' n_unique_tokens',\n",
       " ' n_non_stop_words',\n",
       " ' n_non_stop_unique_tokens',\n",
       " ' num_hrefs',\n",
       " ' num_self_hrefs',\n",
       " ' num_imgs',\n",
       " ' num_videos',\n",
       " ' average_token_length',\n",
       " ' num_keywords',\n",
       " ' data_channel_is_lifestyle',\n",
       " ' data_channel_is_entertainment',\n",
       " ' data_channel_is_bus',\n",
       " ' data_channel_is_socmed',\n",
       " ' data_channel_is_tech',\n",
       " ' data_channel_is_world',\n",
       " ' kw_min_min',\n",
       " ' kw_max_min',\n",
       " ' kw_avg_min',\n",
       " ' kw_min_max',\n",
       " ' kw_max_max',\n",
       " ' kw_avg_max',\n",
       " ' kw_min_avg',\n",
       " ' kw_max_avg',\n",
       " ' kw_avg_avg',\n",
       " ' self_reference_min_shares',\n",
       " ' self_reference_max_shares',\n",
       " ' self_reference_avg_sharess',\n",
       " ' weekday_is_monday',\n",
       " ' weekday_is_tuesday',\n",
       " ' weekday_is_wednesday',\n",
       " ' weekday_is_thursday',\n",
       " ' weekday_is_friday',\n",
       " ' weekday_is_saturday',\n",
       " ' weekday_is_sunday',\n",
       " ' is_weekend',\n",
       " ' LDA_00',\n",
       " ' LDA_01',\n",
       " ' LDA_02',\n",
       " ' LDA_03',\n",
       " ' LDA_04',\n",
       " ' global_subjectivity',\n",
       " ' global_sentiment_polarity',\n",
       " ' global_rate_positive_words',\n",
       " ' global_rate_negative_words',\n",
       " ' rate_positive_words',\n",
       " ' rate_negative_words',\n",
       " ' avg_positive_polarity',\n",
       " ' min_positive_polarity',\n",
       " ' max_positive_polarity',\n",
       " ' avg_negative_polarity',\n",
       " ' min_negative_polarity',\n",
       " ' max_negative_polarity',\n",
       " ' title_subjectivity',\n",
       " ' title_sentiment_polarity',\n",
       " ' abs_title_subjectivity',\n",
       " ' abs_title_sentiment_polarity',\n",
       " ' shares']"
      ]
     },
     "execution_count": 10,
     "metadata": {},
     "output_type": "execute_result"
    }
   ],
   "source": [
    "train_df.columns.tolist()"
   ]
  },
  {
   "cell_type": "markdown",
   "metadata": {},
   "source": [
    "Separate X and Y"
   ]
  },
  {
   "cell_type": "code",
   "execution_count": 11,
   "metadata": {},
   "outputs": [],
   "source": [
    "x = train_df.drop(labels=[' shares'], axis=1)\n",
    "\n",
    "y = train_df[' shares']"
   ]
  },
  {
   "cell_type": "code",
   "execution_count": 54,
   "metadata": {
    "scrolled": true
   },
   "outputs": [],
   "source": [
    "non_binary_features = x.columns[x.max()!=1]"
   ]
  },
  {
   "cell_type": "markdown",
   "metadata": {},
   "source": [
    "There are 36 continuous features:"
   ]
  },
  {
   "cell_type": "code",
   "execution_count": 55,
   "metadata": {},
   "outputs": [
    {
     "data": {
      "text/plain": [
       "Index([' timedelta', ' n_tokens_title', ' n_tokens_content',\n",
       "       ' n_unique_tokens', ' n_non_stop_words', ' n_non_stop_unique_tokens',\n",
       "       ' num_hrefs', ' num_self_hrefs', ' num_imgs', ' num_videos',\n",
       "       ' average_token_length', ' num_keywords', ' kw_min_min', ' kw_max_min',\n",
       "       ' kw_avg_min', ' kw_min_max', ' kw_max_max', ' kw_avg_max',\n",
       "       ' kw_min_avg', ' kw_max_avg', ' kw_avg_avg',\n",
       "       ' self_reference_min_shares', ' self_reference_max_shares',\n",
       "       ' self_reference_avg_sharess', ' LDA_00', ' LDA_01', ' LDA_02',\n",
       "       ' LDA_03', ' LDA_04', ' global_sentiment_polarity',\n",
       "       ' global_rate_positive_words', ' global_rate_negative_words',\n",
       "       ' avg_negative_polarity', ' min_negative_polarity',\n",
       "       ' max_negative_polarity', ' abs_title_subjectivity'],\n",
       "      dtype='object')"
      ]
     },
     "execution_count": 55,
     "metadata": {},
     "output_type": "execute_result"
    }
   ],
   "source": [
    "non_binary_features"
   ]
  },
  {
   "cell_type": "code",
   "execution_count": 116,
   "metadata": {
    "scrolled": true
   },
   "outputs": [
    {
     "data": {
      "text/html": [
       "<div>\n",
       "<style scoped>\n",
       "    .dataframe tbody tr th:only-of-type {\n",
       "        vertical-align: middle;\n",
       "    }\n",
       "\n",
       "    .dataframe tbody tr th {\n",
       "        vertical-align: top;\n",
       "    }\n",
       "\n",
       "    .dataframe thead th {\n",
       "        text-align: right;\n",
       "    }\n",
       "</style>\n",
       "<table border=\"1\" class=\"dataframe\">\n",
       "  <thead>\n",
       "    <tr style=\"text-align: right;\">\n",
       "      <th></th>\n",
       "      <th>timedelta</th>\n",
       "      <th>n_tokens_title</th>\n",
       "      <th>n_tokens_content</th>\n",
       "      <th>n_unique_tokens</th>\n",
       "      <th>n_non_stop_words</th>\n",
       "      <th>n_non_stop_unique_tokens</th>\n",
       "      <th>num_hrefs</th>\n",
       "      <th>num_self_hrefs</th>\n",
       "      <th>num_imgs</th>\n",
       "      <th>num_videos</th>\n",
       "      <th>...</th>\n",
       "      <th>LDA_02</th>\n",
       "      <th>LDA_03</th>\n",
       "      <th>LDA_04</th>\n",
       "      <th>global_sentiment_polarity</th>\n",
       "      <th>global_rate_positive_words</th>\n",
       "      <th>global_rate_negative_words</th>\n",
       "      <th>avg_negative_polarity</th>\n",
       "      <th>min_negative_polarity</th>\n",
       "      <th>max_negative_polarity</th>\n",
       "      <th>abs_title_subjectivity</th>\n",
       "    </tr>\n",
       "  </thead>\n",
       "  <tbody>\n",
       "    <tr>\n",
       "      <th>count</th>\n",
       "      <td>28786.000000</td>\n",
       "      <td>28786.000000</td>\n",
       "      <td>28786.000000</td>\n",
       "      <td>28786.000000</td>\n",
       "      <td>28786.000000</td>\n",
       "      <td>28786.000000</td>\n",
       "      <td>28786.000000</td>\n",
       "      <td>28786.000000</td>\n",
       "      <td>28786.000000</td>\n",
       "      <td>28786.000000</td>\n",
       "      <td>...</td>\n",
       "      <td>28786.000000</td>\n",
       "      <td>28786.000000</td>\n",
       "      <td>28786.000000</td>\n",
       "      <td>28786.000000</td>\n",
       "      <td>28786.000000</td>\n",
       "      <td>28786.000000</td>\n",
       "      <td>28786.000000</td>\n",
       "      <td>28786.000000</td>\n",
       "      <td>28786.000000</td>\n",
       "      <td>28786.000000</td>\n",
       "    </tr>\n",
       "    <tr>\n",
       "      <th>mean</th>\n",
       "      <td>353.520635</td>\n",
       "      <td>10.403460</td>\n",
       "      <td>546.455082</td>\n",
       "      <td>0.555111</td>\n",
       "      <td>1.006600</td>\n",
       "      <td>0.695780</td>\n",
       "      <td>10.873063</td>\n",
       "      <td>3.301674</td>\n",
       "      <td>4.548496</td>\n",
       "      <td>1.259432</td>\n",
       "      <td>...</td>\n",
       "      <td>0.216478</td>\n",
       "      <td>0.223049</td>\n",
       "      <td>0.234595</td>\n",
       "      <td>0.118936</td>\n",
       "      <td>0.039636</td>\n",
       "      <td>0.016630</td>\n",
       "      <td>-0.260026</td>\n",
       "      <td>-0.522700</td>\n",
       "      <td>-0.107939</td>\n",
       "      <td>0.341162</td>\n",
       "    </tr>\n",
       "    <tr>\n",
       "      <th>std</th>\n",
       "      <td>214.420324</td>\n",
       "      <td>2.121334</td>\n",
       "      <td>470.409467</td>\n",
       "      <td>4.130828</td>\n",
       "      <td>6.138155</td>\n",
       "      <td>3.830214</td>\n",
       "      <td>11.155409</td>\n",
       "      <td>3.868232</td>\n",
       "      <td>8.342588</td>\n",
       "      <td>4.183587</td>\n",
       "      <td>...</td>\n",
       "      <td>0.282305</td>\n",
       "      <td>0.294676</td>\n",
       "      <td>0.289643</td>\n",
       "      <td>0.096983</td>\n",
       "      <td>0.017406</td>\n",
       "      <td>0.010841</td>\n",
       "      <td>0.127850</td>\n",
       "      <td>0.290469</td>\n",
       "      <td>0.095253</td>\n",
       "      <td>0.189085</td>\n",
       "    </tr>\n",
       "    <tr>\n",
       "      <th>min</th>\n",
       "      <td>8.000000</td>\n",
       "      <td>2.000000</td>\n",
       "      <td>0.000000</td>\n",
       "      <td>0.000000</td>\n",
       "      <td>0.000000</td>\n",
       "      <td>0.000000</td>\n",
       "      <td>0.000000</td>\n",
       "      <td>0.000000</td>\n",
       "      <td>0.000000</td>\n",
       "      <td>0.000000</td>\n",
       "      <td>...</td>\n",
       "      <td>0.000000</td>\n",
       "      <td>0.000000</td>\n",
       "      <td>0.000000</td>\n",
       "      <td>-0.393750</td>\n",
       "      <td>0.000000</td>\n",
       "      <td>0.000000</td>\n",
       "      <td>-1.000000</td>\n",
       "      <td>-1.000000</td>\n",
       "      <td>-1.000000</td>\n",
       "      <td>0.000000</td>\n",
       "    </tr>\n",
       "    <tr>\n",
       "      <th>25%</th>\n",
       "      <td>163.000000</td>\n",
       "      <td>9.000000</td>\n",
       "      <td>245.000000</td>\n",
       "      <td>0.470735</td>\n",
       "      <td>1.000000</td>\n",
       "      <td>0.625926</td>\n",
       "      <td>4.000000</td>\n",
       "      <td>1.000000</td>\n",
       "      <td>1.000000</td>\n",
       "      <td>0.000000</td>\n",
       "      <td>...</td>\n",
       "      <td>0.028571</td>\n",
       "      <td>0.028571</td>\n",
       "      <td>0.028574</td>\n",
       "      <td>0.057387</td>\n",
       "      <td>0.028398</td>\n",
       "      <td>0.009640</td>\n",
       "      <td>-0.329167</td>\n",
       "      <td>-0.700000</td>\n",
       "      <td>-0.125000</td>\n",
       "      <td>0.166667</td>\n",
       "    </tr>\n",
       "    <tr>\n",
       "      <th>50%</th>\n",
       "      <td>337.000000</td>\n",
       "      <td>10.000000</td>\n",
       "      <td>410.000000</td>\n",
       "      <td>0.539302</td>\n",
       "      <td>1.000000</td>\n",
       "      <td>0.691043</td>\n",
       "      <td>8.000000</td>\n",
       "      <td>3.000000</td>\n",
       "      <td>1.000000</td>\n",
       "      <td>0.000000</td>\n",
       "      <td>...</td>\n",
       "      <td>0.040004</td>\n",
       "      <td>0.040001</td>\n",
       "      <td>0.040762</td>\n",
       "      <td>0.119223</td>\n",
       "      <td>0.039047</td>\n",
       "      <td>0.015385</td>\n",
       "      <td>-0.253756</td>\n",
       "      <td>-0.500000</td>\n",
       "      <td>-0.100000</td>\n",
       "      <td>0.500000</td>\n",
       "    </tr>\n",
       "    <tr>\n",
       "      <th>75%</th>\n",
       "      <td>542.000000</td>\n",
       "      <td>12.000000</td>\n",
       "      <td>716.000000</td>\n",
       "      <td>0.608527</td>\n",
       "      <td>1.000000</td>\n",
       "      <td>0.755155</td>\n",
       "      <td>14.000000</td>\n",
       "      <td>4.000000</td>\n",
       "      <td>4.000000</td>\n",
       "      <td>1.000000</td>\n",
       "      <td>...</td>\n",
       "      <td>0.335049</td>\n",
       "      <td>0.371804</td>\n",
       "      <td>0.400693</td>\n",
       "      <td>0.177389</td>\n",
       "      <td>0.050251</td>\n",
       "      <td>0.021747</td>\n",
       "      <td>-0.187500</td>\n",
       "      <td>-0.300000</td>\n",
       "      <td>-0.050000</td>\n",
       "      <td>0.500000</td>\n",
       "    </tr>\n",
       "    <tr>\n",
       "      <th>max</th>\n",
       "      <td>731.000000</td>\n",
       "      <td>23.000000</td>\n",
       "      <td>8474.000000</td>\n",
       "      <td>701.000000</td>\n",
       "      <td>1042.000000</td>\n",
       "      <td>650.000000</td>\n",
       "      <td>162.000000</td>\n",
       "      <td>74.000000</td>\n",
       "      <td>128.000000</td>\n",
       "      <td>75.000000</td>\n",
       "      <td>...</td>\n",
       "      <td>0.919999</td>\n",
       "      <td>0.925542</td>\n",
       "      <td>0.927191</td>\n",
       "      <td>0.655000</td>\n",
       "      <td>0.155488</td>\n",
       "      <td>0.184932</td>\n",
       "      <td>0.000000</td>\n",
       "      <td>0.000000</td>\n",
       "      <td>0.000000</td>\n",
       "      <td>0.500000</td>\n",
       "    </tr>\n",
       "  </tbody>\n",
       "</table>\n",
       "<p>8 rows × 36 columns</p>\n",
       "</div>"
      ],
      "text/plain": [
       "          timedelta   n_tokens_title   n_tokens_content   n_unique_tokens  \\\n",
       "count  28786.000000     28786.000000       28786.000000      28786.000000   \n",
       "mean     353.520635        10.403460         546.455082          0.555111   \n",
       "std      214.420324         2.121334         470.409467          4.130828   \n",
       "min        8.000000         2.000000           0.000000          0.000000   \n",
       "25%      163.000000         9.000000         245.000000          0.470735   \n",
       "50%      337.000000        10.000000         410.000000          0.539302   \n",
       "75%      542.000000        12.000000         716.000000          0.608527   \n",
       "max      731.000000        23.000000        8474.000000        701.000000   \n",
       "\n",
       "        n_non_stop_words   n_non_stop_unique_tokens     num_hrefs  \\\n",
       "count       28786.000000               28786.000000  28786.000000   \n",
       "mean            1.006600                   0.695780     10.873063   \n",
       "std             6.138155                   3.830214     11.155409   \n",
       "min             0.000000                   0.000000      0.000000   \n",
       "25%             1.000000                   0.625926      4.000000   \n",
       "50%             1.000000                   0.691043      8.000000   \n",
       "75%             1.000000                   0.755155     14.000000   \n",
       "max          1042.000000                 650.000000    162.000000   \n",
       "\n",
       "        num_self_hrefs      num_imgs    num_videos           ...             \\\n",
       "count     28786.000000  28786.000000  28786.000000           ...              \n",
       "mean          3.301674      4.548496      1.259432           ...              \n",
       "std           3.868232      8.342588      4.183587           ...              \n",
       "min           0.000000      0.000000      0.000000           ...              \n",
       "25%           1.000000      1.000000      0.000000           ...              \n",
       "50%           3.000000      1.000000      0.000000           ...              \n",
       "75%           4.000000      4.000000      1.000000           ...              \n",
       "max          74.000000    128.000000     75.000000           ...              \n",
       "\n",
       "             LDA_02        LDA_03        LDA_04   global_sentiment_polarity  \\\n",
       "count  28786.000000  28786.000000  28786.000000                28786.000000   \n",
       "mean       0.216478      0.223049      0.234595                    0.118936   \n",
       "std        0.282305      0.294676      0.289643                    0.096983   \n",
       "min        0.000000      0.000000      0.000000                   -0.393750   \n",
       "25%        0.028571      0.028571      0.028574                    0.057387   \n",
       "50%        0.040004      0.040001      0.040762                    0.119223   \n",
       "75%        0.335049      0.371804      0.400693                    0.177389   \n",
       "max        0.919999      0.925542      0.927191                    0.655000   \n",
       "\n",
       "        global_rate_positive_words   global_rate_negative_words  \\\n",
       "count                 28786.000000                 28786.000000   \n",
       "mean                      0.039636                     0.016630   \n",
       "std                       0.017406                     0.010841   \n",
       "min                       0.000000                     0.000000   \n",
       "25%                       0.028398                     0.009640   \n",
       "50%                       0.039047                     0.015385   \n",
       "75%                       0.050251                     0.021747   \n",
       "max                       0.155488                     0.184932   \n",
       "\n",
       "        avg_negative_polarity   min_negative_polarity   max_negative_polarity  \\\n",
       "count            28786.000000            28786.000000            28786.000000   \n",
       "mean                -0.260026               -0.522700               -0.107939   \n",
       "std                  0.127850                0.290469                0.095253   \n",
       "min                 -1.000000               -1.000000               -1.000000   \n",
       "25%                 -0.329167               -0.700000               -0.125000   \n",
       "50%                 -0.253756               -0.500000               -0.100000   \n",
       "75%                 -0.187500               -0.300000               -0.050000   \n",
       "max                  0.000000                0.000000                0.000000   \n",
       "\n",
       "        abs_title_subjectivity  \n",
       "count             28786.000000  \n",
       "mean                  0.341162  \n",
       "std                   0.189085  \n",
       "min                   0.000000  \n",
       "25%                   0.166667  \n",
       "50%                   0.500000  \n",
       "75%                   0.500000  \n",
       "max                   0.500000  \n",
       "\n",
       "[8 rows x 36 columns]"
      ]
     },
     "execution_count": 116,
     "metadata": {},
     "output_type": "execute_result"
    }
   ],
   "source": [
    "x[non_binary_features].describe()"
   ]
  },
  {
   "cell_type": "code",
   "execution_count": 118,
   "metadata": {},
   "outputs": [],
   "source": [
    "describe_continuous = x[non_binary_features].describe()"
   ]
  },
  {
   "cell_type": "code",
   "execution_count": 120,
   "metadata": {},
   "outputs": [
    {
     "data": {
      "text/html": [
       "<div>\n",
       "<style scoped>\n",
       "    .dataframe tbody tr th:only-of-type {\n",
       "        vertical-align: middle;\n",
       "    }\n",
       "\n",
       "    .dataframe tbody tr th {\n",
       "        vertical-align: top;\n",
       "    }\n",
       "\n",
       "    .dataframe thead th {\n",
       "        text-align: right;\n",
       "    }\n",
       "</style>\n",
       "<table border=\"1\" class=\"dataframe\">\n",
       "  <thead>\n",
       "    <tr style=\"text-align: right;\">\n",
       "      <th></th>\n",
       "      <th>count</th>\n",
       "      <th>mean</th>\n",
       "      <th>std</th>\n",
       "      <th>min</th>\n",
       "      <th>25%</th>\n",
       "      <th>50%</th>\n",
       "      <th>75%</th>\n",
       "      <th>max</th>\n",
       "    </tr>\n",
       "  </thead>\n",
       "  <tbody>\n",
       "    <tr>\n",
       "      <th>timedelta</th>\n",
       "      <td>28786.0</td>\n",
       "      <td>353.520635</td>\n",
       "      <td>214.420324</td>\n",
       "      <td>8.00000</td>\n",
       "      <td>163.000000</td>\n",
       "      <td>337.000000</td>\n",
       "      <td>542.000000</td>\n",
       "      <td>731.000000</td>\n",
       "    </tr>\n",
       "    <tr>\n",
       "      <th>n_tokens_title</th>\n",
       "      <td>28786.0</td>\n",
       "      <td>10.403460</td>\n",
       "      <td>2.121334</td>\n",
       "      <td>2.00000</td>\n",
       "      <td>9.000000</td>\n",
       "      <td>10.000000</td>\n",
       "      <td>12.000000</td>\n",
       "      <td>23.000000</td>\n",
       "    </tr>\n",
       "    <tr>\n",
       "      <th>n_tokens_content</th>\n",
       "      <td>28786.0</td>\n",
       "      <td>546.455082</td>\n",
       "      <td>470.409467</td>\n",
       "      <td>0.00000</td>\n",
       "      <td>245.000000</td>\n",
       "      <td>410.000000</td>\n",
       "      <td>716.000000</td>\n",
       "      <td>8474.000000</td>\n",
       "    </tr>\n",
       "    <tr>\n",
       "      <th>n_unique_tokens</th>\n",
       "      <td>28786.0</td>\n",
       "      <td>0.555111</td>\n",
       "      <td>4.130828</td>\n",
       "      <td>0.00000</td>\n",
       "      <td>0.470735</td>\n",
       "      <td>0.539302</td>\n",
       "      <td>0.608527</td>\n",
       "      <td>701.000000</td>\n",
       "    </tr>\n",
       "    <tr>\n",
       "      <th>n_non_stop_words</th>\n",
       "      <td>28786.0</td>\n",
       "      <td>1.006600</td>\n",
       "      <td>6.138155</td>\n",
       "      <td>0.00000</td>\n",
       "      <td>1.000000</td>\n",
       "      <td>1.000000</td>\n",
       "      <td>1.000000</td>\n",
       "      <td>1042.000000</td>\n",
       "    </tr>\n",
       "    <tr>\n",
       "      <th>n_non_stop_unique_tokens</th>\n",
       "      <td>28786.0</td>\n",
       "      <td>0.695780</td>\n",
       "      <td>3.830214</td>\n",
       "      <td>0.00000</td>\n",
       "      <td>0.625926</td>\n",
       "      <td>0.691043</td>\n",
       "      <td>0.755155</td>\n",
       "      <td>650.000000</td>\n",
       "    </tr>\n",
       "    <tr>\n",
       "      <th>num_hrefs</th>\n",
       "      <td>28786.0</td>\n",
       "      <td>10.873063</td>\n",
       "      <td>11.155409</td>\n",
       "      <td>0.00000</td>\n",
       "      <td>4.000000</td>\n",
       "      <td>8.000000</td>\n",
       "      <td>14.000000</td>\n",
       "      <td>162.000000</td>\n",
       "    </tr>\n",
       "    <tr>\n",
       "      <th>num_self_hrefs</th>\n",
       "      <td>28786.0</td>\n",
       "      <td>3.301674</td>\n",
       "      <td>3.868232</td>\n",
       "      <td>0.00000</td>\n",
       "      <td>1.000000</td>\n",
       "      <td>3.000000</td>\n",
       "      <td>4.000000</td>\n",
       "      <td>74.000000</td>\n",
       "    </tr>\n",
       "    <tr>\n",
       "      <th>num_imgs</th>\n",
       "      <td>28786.0</td>\n",
       "      <td>4.548496</td>\n",
       "      <td>8.342588</td>\n",
       "      <td>0.00000</td>\n",
       "      <td>1.000000</td>\n",
       "      <td>1.000000</td>\n",
       "      <td>4.000000</td>\n",
       "      <td>128.000000</td>\n",
       "    </tr>\n",
       "    <tr>\n",
       "      <th>num_videos</th>\n",
       "      <td>28786.0</td>\n",
       "      <td>1.259432</td>\n",
       "      <td>4.183587</td>\n",
       "      <td>0.00000</td>\n",
       "      <td>0.000000</td>\n",
       "      <td>0.000000</td>\n",
       "      <td>1.000000</td>\n",
       "      <td>75.000000</td>\n",
       "    </tr>\n",
       "    <tr>\n",
       "      <th>average_token_length</th>\n",
       "      <td>28786.0</td>\n",
       "      <td>4.550483</td>\n",
       "      <td>0.842057</td>\n",
       "      <td>0.00000</td>\n",
       "      <td>4.480429</td>\n",
       "      <td>4.665751</td>\n",
       "      <td>4.855236</td>\n",
       "      <td>8.041534</td>\n",
       "    </tr>\n",
       "    <tr>\n",
       "      <th>num_keywords</th>\n",
       "      <td>28786.0</td>\n",
       "      <td>7.224449</td>\n",
       "      <td>1.909620</td>\n",
       "      <td>1.00000</td>\n",
       "      <td>6.000000</td>\n",
       "      <td>7.000000</td>\n",
       "      <td>9.000000</td>\n",
       "      <td>10.000000</td>\n",
       "    </tr>\n",
       "    <tr>\n",
       "      <th>kw_min_min</th>\n",
       "      <td>28786.0</td>\n",
       "      <td>25.917529</td>\n",
       "      <td>69.422533</td>\n",
       "      <td>-1.00000</td>\n",
       "      <td>-1.000000</td>\n",
       "      <td>-1.000000</td>\n",
       "      <td>4.000000</td>\n",
       "      <td>377.000000</td>\n",
       "    </tr>\n",
       "    <tr>\n",
       "      <th>kw_max_min</th>\n",
       "      <td>28786.0</td>\n",
       "      <td>1170.187296</td>\n",
       "      <td>4110.419484</td>\n",
       "      <td>0.00000</td>\n",
       "      <td>446.250000</td>\n",
       "      <td>661.000000</td>\n",
       "      <td>1000.000000</td>\n",
       "      <td>298400.000000</td>\n",
       "    </tr>\n",
       "    <tr>\n",
       "      <th>kw_avg_min</th>\n",
       "      <td>28786.0</td>\n",
       "      <td>313.969191</td>\n",
       "      <td>638.580354</td>\n",
       "      <td>-1.00000</td>\n",
       "      <td>141.800000</td>\n",
       "      <td>235.555556</td>\n",
       "      <td>356.237500</td>\n",
       "      <td>42827.857140</td>\n",
       "    </tr>\n",
       "    <tr>\n",
       "      <th>kw_min_max</th>\n",
       "      <td>28786.0</td>\n",
       "      <td>13741.614431</td>\n",
       "      <td>58488.942267</td>\n",
       "      <td>0.00000</td>\n",
       "      <td>0.000000</td>\n",
       "      <td>1400.000000</td>\n",
       "      <td>7900.000000</td>\n",
       "      <td>843300.000000</td>\n",
       "    </tr>\n",
       "    <tr>\n",
       "      <th>kw_max_max</th>\n",
       "      <td>28786.0</td>\n",
       "      <td>752845.153894</td>\n",
       "      <td>213664.134603</td>\n",
       "      <td>0.00000</td>\n",
       "      <td>843300.000000</td>\n",
       "      <td>843300.000000</td>\n",
       "      <td>843300.000000</td>\n",
       "      <td>843300.000000</td>\n",
       "    </tr>\n",
       "    <tr>\n",
       "      <th>kw_avg_max</th>\n",
       "      <td>28786.0</td>\n",
       "      <td>259488.803305</td>\n",
       "      <td>135157.683564</td>\n",
       "      <td>0.00000</td>\n",
       "      <td>172800.000000</td>\n",
       "      <td>244980.555550</td>\n",
       "      <td>330408.333325</td>\n",
       "      <td>843300.000000</td>\n",
       "    </tr>\n",
       "    <tr>\n",
       "      <th>kw_min_avg</th>\n",
       "      <td>28786.0</td>\n",
       "      <td>1119.117710</td>\n",
       "      <td>1137.505117</td>\n",
       "      <td>-1.00000</td>\n",
       "      <td>0.000000</td>\n",
       "      <td>1027.125000</td>\n",
       "      <td>2063.878631</td>\n",
       "      <td>3610.124972</td>\n",
       "    </tr>\n",
       "    <tr>\n",
       "      <th>kw_max_avg</th>\n",
       "      <td>28786.0</td>\n",
       "      <td>5661.950910</td>\n",
       "      <td>6167.654463</td>\n",
       "      <td>0.00000</td>\n",
       "      <td>3560.441280</td>\n",
       "      <td>4349.935294</td>\n",
       "      <td>6019.139887</td>\n",
       "      <td>298400.000000</td>\n",
       "    </tr>\n",
       "    <tr>\n",
       "      <th>kw_avg_avg</th>\n",
       "      <td>28786.0</td>\n",
       "      <td>3136.457660</td>\n",
       "      <td>1318.413527</td>\n",
       "      <td>0.00000</td>\n",
       "      <td>2383.855650</td>\n",
       "      <td>2867.574465</td>\n",
       "      <td>3596.758440</td>\n",
       "      <td>43567.659950</td>\n",
       "    </tr>\n",
       "    <tr>\n",
       "      <th>self_reference_min_shares</th>\n",
       "      <td>28786.0</td>\n",
       "      <td>3959.137988</td>\n",
       "      <td>19217.142024</td>\n",
       "      <td>0.00000</td>\n",
       "      <td>637.000000</td>\n",
       "      <td>1200.000000</td>\n",
       "      <td>2700.000000</td>\n",
       "      <td>843300.000000</td>\n",
       "    </tr>\n",
       "    <tr>\n",
       "      <th>self_reference_max_shares</th>\n",
       "      <td>28786.0</td>\n",
       "      <td>10180.309566</td>\n",
       "      <td>39839.079255</td>\n",
       "      <td>0.00000</td>\n",
       "      <td>1100.000000</td>\n",
       "      <td>2900.000000</td>\n",
       "      <td>8000.000000</td>\n",
       "      <td>843300.000000</td>\n",
       "    </tr>\n",
       "    <tr>\n",
       "      <th>self_reference_avg_sharess</th>\n",
       "      <td>28786.0</td>\n",
       "      <td>6328.304836</td>\n",
       "      <td>23775.239191</td>\n",
       "      <td>0.00000</td>\n",
       "      <td>980.000000</td>\n",
       "      <td>2200.000000</td>\n",
       "      <td>5200.000000</td>\n",
       "      <td>843300.000000</td>\n",
       "    </tr>\n",
       "    <tr>\n",
       "      <th>LDA_00</th>\n",
       "      <td>28786.0</td>\n",
       "      <td>0.184370</td>\n",
       "      <td>0.263121</td>\n",
       "      <td>0.00000</td>\n",
       "      <td>0.025048</td>\n",
       "      <td>0.033387</td>\n",
       "      <td>0.240356</td>\n",
       "      <td>0.926994</td>\n",
       "    </tr>\n",
       "    <tr>\n",
       "      <th>LDA_01</th>\n",
       "      <td>28786.0</td>\n",
       "      <td>0.141474</td>\n",
       "      <td>0.219639</td>\n",
       "      <td>0.00000</td>\n",
       "      <td>0.025014</td>\n",
       "      <td>0.033345</td>\n",
       "      <td>0.151185</td>\n",
       "      <td>0.919976</td>\n",
       "    </tr>\n",
       "    <tr>\n",
       "      <th>LDA_02</th>\n",
       "      <td>28786.0</td>\n",
       "      <td>0.216478</td>\n",
       "      <td>0.282305</td>\n",
       "      <td>0.00000</td>\n",
       "      <td>0.028571</td>\n",
       "      <td>0.040004</td>\n",
       "      <td>0.335049</td>\n",
       "      <td>0.919999</td>\n",
       "    </tr>\n",
       "    <tr>\n",
       "      <th>LDA_03</th>\n",
       "      <td>28786.0</td>\n",
       "      <td>0.223049</td>\n",
       "      <td>0.294676</td>\n",
       "      <td>0.00000</td>\n",
       "      <td>0.028571</td>\n",
       "      <td>0.040001</td>\n",
       "      <td>0.371804</td>\n",
       "      <td>0.925542</td>\n",
       "    </tr>\n",
       "    <tr>\n",
       "      <th>LDA_04</th>\n",
       "      <td>28786.0</td>\n",
       "      <td>0.234595</td>\n",
       "      <td>0.289643</td>\n",
       "      <td>0.00000</td>\n",
       "      <td>0.028574</td>\n",
       "      <td>0.040762</td>\n",
       "      <td>0.400693</td>\n",
       "      <td>0.927191</td>\n",
       "    </tr>\n",
       "    <tr>\n",
       "      <th>global_sentiment_polarity</th>\n",
       "      <td>28786.0</td>\n",
       "      <td>0.118936</td>\n",
       "      <td>0.096983</td>\n",
       "      <td>-0.39375</td>\n",
       "      <td>0.057387</td>\n",
       "      <td>0.119223</td>\n",
       "      <td>0.177389</td>\n",
       "      <td>0.655000</td>\n",
       "    </tr>\n",
       "    <tr>\n",
       "      <th>global_rate_positive_words</th>\n",
       "      <td>28786.0</td>\n",
       "      <td>0.039636</td>\n",
       "      <td>0.017406</td>\n",
       "      <td>0.00000</td>\n",
       "      <td>0.028398</td>\n",
       "      <td>0.039047</td>\n",
       "      <td>0.050251</td>\n",
       "      <td>0.155488</td>\n",
       "    </tr>\n",
       "    <tr>\n",
       "      <th>global_rate_negative_words</th>\n",
       "      <td>28786.0</td>\n",
       "      <td>0.016630</td>\n",
       "      <td>0.010841</td>\n",
       "      <td>0.00000</td>\n",
       "      <td>0.009640</td>\n",
       "      <td>0.015385</td>\n",
       "      <td>0.021747</td>\n",
       "      <td>0.184932</td>\n",
       "    </tr>\n",
       "    <tr>\n",
       "      <th>avg_negative_polarity</th>\n",
       "      <td>28786.0</td>\n",
       "      <td>-0.260026</td>\n",
       "      <td>0.127850</td>\n",
       "      <td>-1.00000</td>\n",
       "      <td>-0.329167</td>\n",
       "      <td>-0.253756</td>\n",
       "      <td>-0.187500</td>\n",
       "      <td>0.000000</td>\n",
       "    </tr>\n",
       "    <tr>\n",
       "      <th>min_negative_polarity</th>\n",
       "      <td>28786.0</td>\n",
       "      <td>-0.522700</td>\n",
       "      <td>0.290469</td>\n",
       "      <td>-1.00000</td>\n",
       "      <td>-0.700000</td>\n",
       "      <td>-0.500000</td>\n",
       "      <td>-0.300000</td>\n",
       "      <td>0.000000</td>\n",
       "    </tr>\n",
       "    <tr>\n",
       "      <th>max_negative_polarity</th>\n",
       "      <td>28786.0</td>\n",
       "      <td>-0.107939</td>\n",
       "      <td>0.095253</td>\n",
       "      <td>-1.00000</td>\n",
       "      <td>-0.125000</td>\n",
       "      <td>-0.100000</td>\n",
       "      <td>-0.050000</td>\n",
       "      <td>0.000000</td>\n",
       "    </tr>\n",
       "    <tr>\n",
       "      <th>abs_title_subjectivity</th>\n",
       "      <td>28786.0</td>\n",
       "      <td>0.341162</td>\n",
       "      <td>0.189085</td>\n",
       "      <td>0.00000</td>\n",
       "      <td>0.166667</td>\n",
       "      <td>0.500000</td>\n",
       "      <td>0.500000</td>\n",
       "      <td>0.500000</td>\n",
       "    </tr>\n",
       "  </tbody>\n",
       "</table>\n",
       "</div>"
      ],
      "text/plain": [
       "                               count           mean            std      min  \\\n",
       " timedelta                   28786.0     353.520635     214.420324  8.00000   \n",
       " n_tokens_title              28786.0      10.403460       2.121334  2.00000   \n",
       " n_tokens_content            28786.0     546.455082     470.409467  0.00000   \n",
       " n_unique_tokens             28786.0       0.555111       4.130828  0.00000   \n",
       " n_non_stop_words            28786.0       1.006600       6.138155  0.00000   \n",
       " n_non_stop_unique_tokens    28786.0       0.695780       3.830214  0.00000   \n",
       " num_hrefs                   28786.0      10.873063      11.155409  0.00000   \n",
       " num_self_hrefs              28786.0       3.301674       3.868232  0.00000   \n",
       " num_imgs                    28786.0       4.548496       8.342588  0.00000   \n",
       " num_videos                  28786.0       1.259432       4.183587  0.00000   \n",
       " average_token_length        28786.0       4.550483       0.842057  0.00000   \n",
       " num_keywords                28786.0       7.224449       1.909620  1.00000   \n",
       " kw_min_min                  28786.0      25.917529      69.422533 -1.00000   \n",
       " kw_max_min                  28786.0    1170.187296    4110.419484  0.00000   \n",
       " kw_avg_min                  28786.0     313.969191     638.580354 -1.00000   \n",
       " kw_min_max                  28786.0   13741.614431   58488.942267  0.00000   \n",
       " kw_max_max                  28786.0  752845.153894  213664.134603  0.00000   \n",
       " kw_avg_max                  28786.0  259488.803305  135157.683564  0.00000   \n",
       " kw_min_avg                  28786.0    1119.117710    1137.505117 -1.00000   \n",
       " kw_max_avg                  28786.0    5661.950910    6167.654463  0.00000   \n",
       " kw_avg_avg                  28786.0    3136.457660    1318.413527  0.00000   \n",
       " self_reference_min_shares   28786.0    3959.137988   19217.142024  0.00000   \n",
       " self_reference_max_shares   28786.0   10180.309566   39839.079255  0.00000   \n",
       " self_reference_avg_sharess  28786.0    6328.304836   23775.239191  0.00000   \n",
       " LDA_00                      28786.0       0.184370       0.263121  0.00000   \n",
       " LDA_01                      28786.0       0.141474       0.219639  0.00000   \n",
       " LDA_02                      28786.0       0.216478       0.282305  0.00000   \n",
       " LDA_03                      28786.0       0.223049       0.294676  0.00000   \n",
       " LDA_04                      28786.0       0.234595       0.289643  0.00000   \n",
       " global_sentiment_polarity   28786.0       0.118936       0.096983 -0.39375   \n",
       " global_rate_positive_words  28786.0       0.039636       0.017406  0.00000   \n",
       " global_rate_negative_words  28786.0       0.016630       0.010841  0.00000   \n",
       " avg_negative_polarity       28786.0      -0.260026       0.127850 -1.00000   \n",
       " min_negative_polarity       28786.0      -0.522700       0.290469 -1.00000   \n",
       " max_negative_polarity       28786.0      -0.107939       0.095253 -1.00000   \n",
       " abs_title_subjectivity      28786.0       0.341162       0.189085  0.00000   \n",
       "\n",
       "                                       25%            50%            75%  \\\n",
       " timedelta                      163.000000     337.000000     542.000000   \n",
       " n_tokens_title                   9.000000      10.000000      12.000000   \n",
       " n_tokens_content               245.000000     410.000000     716.000000   \n",
       " n_unique_tokens                  0.470735       0.539302       0.608527   \n",
       " n_non_stop_words                 1.000000       1.000000       1.000000   \n",
       " n_non_stop_unique_tokens         0.625926       0.691043       0.755155   \n",
       " num_hrefs                        4.000000       8.000000      14.000000   \n",
       " num_self_hrefs                   1.000000       3.000000       4.000000   \n",
       " num_imgs                         1.000000       1.000000       4.000000   \n",
       " num_videos                       0.000000       0.000000       1.000000   \n",
       " average_token_length             4.480429       4.665751       4.855236   \n",
       " num_keywords                     6.000000       7.000000       9.000000   \n",
       " kw_min_min                      -1.000000      -1.000000       4.000000   \n",
       " kw_max_min                     446.250000     661.000000    1000.000000   \n",
       " kw_avg_min                     141.800000     235.555556     356.237500   \n",
       " kw_min_max                       0.000000    1400.000000    7900.000000   \n",
       " kw_max_max                  843300.000000  843300.000000  843300.000000   \n",
       " kw_avg_max                  172800.000000  244980.555550  330408.333325   \n",
       " kw_min_avg                       0.000000    1027.125000    2063.878631   \n",
       " kw_max_avg                    3560.441280    4349.935294    6019.139887   \n",
       " kw_avg_avg                    2383.855650    2867.574465    3596.758440   \n",
       " self_reference_min_shares      637.000000    1200.000000    2700.000000   \n",
       " self_reference_max_shares     1100.000000    2900.000000    8000.000000   \n",
       " self_reference_avg_sharess     980.000000    2200.000000    5200.000000   \n",
       " LDA_00                           0.025048       0.033387       0.240356   \n",
       " LDA_01                           0.025014       0.033345       0.151185   \n",
       " LDA_02                           0.028571       0.040004       0.335049   \n",
       " LDA_03                           0.028571       0.040001       0.371804   \n",
       " LDA_04                           0.028574       0.040762       0.400693   \n",
       " global_sentiment_polarity        0.057387       0.119223       0.177389   \n",
       " global_rate_positive_words       0.028398       0.039047       0.050251   \n",
       " global_rate_negative_words       0.009640       0.015385       0.021747   \n",
       " avg_negative_polarity           -0.329167      -0.253756      -0.187500   \n",
       " min_negative_polarity           -0.700000      -0.500000      -0.300000   \n",
       " max_negative_polarity           -0.125000      -0.100000      -0.050000   \n",
       " abs_title_subjectivity           0.166667       0.500000       0.500000   \n",
       "\n",
       "                                       max  \n",
       " timedelta                      731.000000  \n",
       " n_tokens_title                  23.000000  \n",
       " n_tokens_content              8474.000000  \n",
       " n_unique_tokens                701.000000  \n",
       " n_non_stop_words              1042.000000  \n",
       " n_non_stop_unique_tokens       650.000000  \n",
       " num_hrefs                      162.000000  \n",
       " num_self_hrefs                  74.000000  \n",
       " num_imgs                       128.000000  \n",
       " num_videos                      75.000000  \n",
       " average_token_length             8.041534  \n",
       " num_keywords                    10.000000  \n",
       " kw_min_min                     377.000000  \n",
       " kw_max_min                  298400.000000  \n",
       " kw_avg_min                   42827.857140  \n",
       " kw_min_max                  843300.000000  \n",
       " kw_max_max                  843300.000000  \n",
       " kw_avg_max                  843300.000000  \n",
       " kw_min_avg                    3610.124972  \n",
       " kw_max_avg                  298400.000000  \n",
       " kw_avg_avg                   43567.659950  \n",
       " self_reference_min_shares   843300.000000  \n",
       " self_reference_max_shares   843300.000000  \n",
       " self_reference_avg_sharess  843300.000000  \n",
       " LDA_00                           0.926994  \n",
       " LDA_01                           0.919976  \n",
       " LDA_02                           0.919999  \n",
       " LDA_03                           0.925542  \n",
       " LDA_04                           0.927191  \n",
       " global_sentiment_polarity        0.655000  \n",
       " global_rate_positive_words       0.155488  \n",
       " global_rate_negative_words       0.184932  \n",
       " avg_negative_polarity            0.000000  \n",
       " min_negative_polarity            0.000000  \n",
       " max_negative_polarity            0.000000  \n",
       " abs_title_subjectivity           0.500000  "
      ]
     },
     "execution_count": 120,
     "metadata": {},
     "output_type": "execute_result"
    }
   ],
   "source": [
    "describe_continuous.transpose()"
   ]
  },
  {
   "cell_type": "code",
   "execution_count": 121,
   "metadata": {},
   "outputs": [],
   "source": [
    "describe_continuous.transpose().to_csv('desc_cont.csv')"
   ]
  },
  {
   "cell_type": "markdown",
   "metadata": {},
   "source": [
    "and the rest are binary"
   ]
  },
  {
   "cell_type": "code",
   "execution_count": 84,
   "metadata": {},
   "outputs": [],
   "source": [
    "x_norm = x.copy()"
   ]
  },
  {
   "cell_type": "code",
   "execution_count": 77,
   "metadata": {
    "scrolled": true
   },
   "outputs": [
    {
     "data": {
      "text/plain": [
       "(28786, 59)"
      ]
     },
     "execution_count": 77,
     "metadata": {},
     "output_type": "execute_result"
    }
   ],
   "source": [
    "x.shape"
   ]
  },
  {
   "cell_type": "code",
   "execution_count": 99,
   "metadata": {},
   "outputs": [
    {
     "data": {
      "text/plain": [
       "843300"
      ]
     },
     "execution_count": 99,
     "metadata": {},
     "output_type": "execute_result"
    }
   ],
   "source": [
    "y.max()"
   ]
  },
  {
   "cell_type": "code",
   "execution_count": 101,
   "metadata": {},
   "outputs": [
    {
     "data": {
      "text/plain": [
       "1"
      ]
     },
     "execution_count": 101,
     "metadata": {},
     "output_type": "execute_result"
    }
   ],
   "source": [
    "y.min()"
   ]
  },
  {
   "cell_type": "code",
   "execution_count": 102,
   "metadata": {},
   "outputs": [
    {
     "data": {
      "text/plain": [
       "3428.6585492947961"
      ]
     },
     "execution_count": 102,
     "metadata": {},
     "output_type": "execute_result"
    }
   ],
   "source": [
    "y.mean()"
   ]
  },
  {
   "cell_type": "code",
   "execution_count": 103,
   "metadata": {},
   "outputs": [
    {
     "data": {
      "text/plain": [
       "12693.940388418016"
      ]
     },
     "execution_count": 103,
     "metadata": {},
     "output_type": "execute_result"
    }
   ],
   "source": [
    "y.std()"
   ]
  },
  {
   "cell_type": "code",
   "execution_count": 109,
   "metadata": {},
   "outputs": [
    {
     "data": {
      "image/png": "[encoded data removed]",
      "text/plain": [
       "<matplotlib.figure.Figure at 0x7f90c5099710>"
      ]
     },
     "metadata": {},
     "output_type": "display_data"
    }
   ],
   "source": [
    "plt.hist(y[y<10000], bins=20)\n",
    "plt.grid()"
   ]
  },
  {
   "cell_type": "code",
   "execution_count": 107,
   "metadata": {
    "scrolled": true
   },
   "outputs": [
    {
     "data": {
      "text/plain": [
       "count     28786.000000\n",
       "mean       3428.658549\n",
       "std       12693.940388\n",
       "min           1.000000\n",
       "25%         940.250000\n",
       "50%        1400.000000\n",
       "75%        2800.000000\n",
       "max      843300.000000\n",
       "Name:  shares, dtype: float64"
      ]
     },
     "execution_count": 107,
     "metadata": {},
     "output_type": "execute_result"
    }
   ],
   "source": [
    "y.describe()"
   ]
  },
  {
   "cell_type": "code",
   "execution_count": 123,
   "metadata": {},
   "outputs": [
    {
     "data": {
      "text/plain": [
       "1579"
      ]
     },
     "execution_count": 123,
     "metadata": {},
     "output_type": "execute_result"
    }
   ],
   "source": [
    "sum(y>10000)"
   ]
  },
  {
   "cell_type": "code",
   "execution_count": 91,
   "metadata": {},
   "outputs": [],
   "source": [
    "x_norm[non_binary_features] = normalize(x_norm[non_binary_features], axis=0)"
   ]
  },
  {
   "cell_type": "markdown",
   "metadata": {},
   "source": [
    "Split into Training and Validation Data"
   ]
  },
  {
   "cell_type": "code",
   "execution_count": 12,
   "metadata": {},
   "outputs": [],
   "source": [
    "x_train, x_test, y_train, y_test = train_test_split(x, y, test_size=0.33, random_state=42)"
   ]
  },
  {
   "cell_type": "code",
   "execution_count": 92,
   "metadata": {},
   "outputs": [],
   "source": [
    "x_norm_train, x_norm_test, y_train, y_test = train_test_split(x_norm, y, test_size=0.33, random_state=42)"
   ]
  },
  {
   "cell_type": "markdown",
   "metadata": {},
   "source": [
    "Define the MAPE metric"
   ]
  },
  {
   "cell_type": "code",
   "execution_count": 13,
   "metadata": {},
   "outputs": [],
   "source": [
    "def mean_absolute_percentage_error(y_true, y_pred): \n",
    "    y_true, y_pred = np.array(y_true), np.array(y_pred)\n",
    "    return np.mean(np.abs((y_true - y_pred) / y_true)) * 100"
   ]
  },
  {
   "cell_type": "markdown",
   "metadata": {},
   "source": [
    "and the Leaderboard scoring metric"
   ]
  },
  {
   "cell_type": "code",
   "execution_count": 14,
   "metadata": {},
   "outputs": [],
   "source": [
    "def leaderboard_score(y_true, y_pred):\n",
    "    mape = np.mean(np.abs((y_true - y_pred) / y_true)) * 100\n",
    "    return (1-(mape/100))*100"
   ]
  },
  {
   "cell_type": "markdown",
   "metadata": {},
   "source": [
    "# Model Evaluation"
   ]
  },
  {
   "cell_type": "markdown",
   "metadata": {},
   "source": [
    "## Lasso Regression"
   ]
  },
  {
   "cell_type": "code",
   "execution_count": 14,
   "metadata": {},
   "outputs": [
    {
     "name": "stderr",
     "output_type": "stream",
     "text": [
      "/opt/conda/lib/python3.6/site-packages/sklearn/linear_model/coordinate_descent.py:491: ConvergenceWarning: Objective did not converge. You might want to increase the number of iterations. Fitting data with very small alpha may cause precision problems.\n",
      "  ConvergenceWarning)\n"
     ]
    },
    {
     "data": {
      "text/plain": [
       "-72.686562617323773"
      ]
     },
     "execution_count": 14,
     "metadata": {},
     "output_type": "execute_result"
    }
   ],
   "source": [
    "lr = Lasso(alpha=1, max_iter=10000)\n",
    "\n",
    "lr.fit(x_train, y_train)\n",
    "\n",
    "y_pred_lr = lr.predict(x_test)\n",
    "\n",
    "leaderboard_score(y_test, y_pred_lr)"
   ]
  },
  {
   "cell_type": "markdown",
   "metadata": {},
   "source": [
    "With normalized Data:"
   ]
  },
  {
   "cell_type": "code",
   "execution_count": 93,
   "metadata": {},
   "outputs": [
    {
     "data": {
      "text/plain": [
       "-88.233430254897854"
      ]
     },
     "execution_count": 93,
     "metadata": {},
     "output_type": "execute_result"
    }
   ],
   "source": [
    "lr = Lasso(alpha=1, max_iter=10000)\n",
    "\n",
    "lr.fit(x_norm_train, y_train)\n",
    "\n",
    "y_pred_lr = lr.predict(x_norm_test)\n",
    "\n",
    "leaderboard_score(y_test, y_pred_lr)"
   ]
  },
  {
   "cell_type": "markdown",
   "metadata": {},
   "source": [
    "### Feature Importance"
   ]
  },
  {
   "cell_type": "code",
   "execution_count": 115,
   "metadata": {},
   "outputs": [
    {
     "data": {
      "image/png": "[encoded data removed]",
      "text/plain": [
       "<matplotlib.figure.Figure at 0x7f90c0621710>"
      ]
     },
     "metadata": {},
     "output_type": "display_data"
    }
   ],
   "source": [
    "fig = plt.figure(figsize=(10,10))\n",
    "plt.barh(range(len(lr.coef_)), lr.coef_, tick_label=x.columns)\n",
    "plt.grid()"
   ]
  },
  {
   "cell_type": "markdown",
   "metadata": {},
   "source": [
    "## XGBoost"
   ]
  },
  {
   "cell_type": "code",
   "execution_count": 15,
   "metadata": {},
   "outputs": [
    {
     "data": {
      "text/plain": [
       "-43.842916826787224"
      ]
     },
     "execution_count": 15,
     "metadata": {},
     "output_type": "execute_result"
    }
   ],
   "source": [
    "xr = xgboost.XGBRegressor(n_estimators=200, learning_rate=0.01, max_depth=8, subsample=0.5, reg_alpha=0, reg_lambda=1)\n",
    "\n",
    "xr.fit(x_train, y_train)\n",
    "\n",
    "y_pred_xr = xr.predict(x_test)\n",
    "\n",
    "leaderboard_score(y_test, y_pred_xr)"
   ]
  },
  {
   "cell_type": "markdown",
   "metadata": {},
   "source": [
    "With normalized data"
   ]
  },
  {
   "cell_type": "code",
   "execution_count": 88,
   "metadata": {},
   "outputs": [
    {
     "data": {
      "text/plain": [
       "-42.872365862670314"
      ]
     },
     "execution_count": 88,
     "metadata": {},
     "output_type": "execute_result"
    }
   ],
   "source": [
    "xr = xgboost.XGBRegressor(n_estimators=200, learning_rate=0.01, max_depth=8, subsample=0.5, reg_alpha=0, reg_lambda=1)\n",
    "\n",
    "xr.fit(x_norm_train, y_train)\n",
    "\n",
    "y_pred_xr = xr.predict(x_norm_test)\n",
    "\n",
    "leaderboard_score(y_test, y_pred_xr)"
   ]
  },
  {
   "cell_type": "markdown",
   "metadata": {},
   "source": [
    "Best XGB Regressor: -43.84"
   ]
  },
  {
   "cell_type": "code",
   "execution_count": 99,
   "metadata": {
    "scrolled": true
   },
   "outputs": [
    {
     "data": {
      "text/plain": [
       "XGBRegressor(base_score=0.5, colsample_bylevel=1, colsample_bytree=1, gamma=0,\n",
       "       learning_rate=0.01, max_delta_step=0, max_depth=6,\n",
       "       min_child_weight=1, missing=None, n_estimators=200, nthread=-1,\n",
       "       objective='reg:linear', reg_alpha=0, reg_lambda=1,\n",
       "       scale_pos_weight=1, seed=0, silent=True, subsample=0.5)"
      ]
     },
     "execution_count": 99,
     "metadata": {},
     "output_type": "execute_result"
    }
   ],
   "source": [
    "xr"
   ]
  },
  {
   "cell_type": "markdown",
   "metadata": {},
   "source": [
    "### Feature Importance"
   ]
  },
  {
   "cell_type": "code",
   "execution_count": 179,
   "metadata": {},
   "outputs": [
    {
     "data": {
      "text/plain": [
       "<matplotlib.axes._subplots.AxesSubplot at 0x7f43fef992e8>"
      ]
     },
     "execution_count": 179,
     "metadata": {},
     "output_type": "execute_result"
    },
    {
     "data": {
      "image/png": "[encoded data removed]",
      "text/plain": [
       "<matplotlib.figure.Figure at 0x7f43fefb3588>"
      ]
     },
     "metadata": {},
     "output_type": "display_data"
    }
   ],
   "source": [
    "fig, ax = plt.subplots(figsize=(10, 10))\n",
    "xgboost.plot_importance(xr, ax=ax)"
   ]
  },
  {
   "cell_type": "code",
   "execution_count": 137,
   "metadata": {},
   "outputs": [
    {
     "data": {
      "text/plain": [
       "3649.937"
      ]
     },
     "execution_count": 137,
     "metadata": {},
     "output_type": "execute_result"
    }
   ],
   "source": [
    "y_pred_xr.std()"
   ]
  },
  {
   "cell_type": "code",
   "execution_count": 81,
   "metadata": {},
   "outputs": [],
   "source": [
    "def train_test_xgbr(x_train, y_train, x_test, y_test, n_estimators=200, learning_rate=0.01, max_depth=6):\n",
    "    xr = xgboost.XGBRegressor(n_estimators=n_estimators, learning_rate=0.01, max_depth=6)\n",
    "    xr.fit(x_train, y_train)\n",
    "    y_pred_xr = xr.predict(x_test)\n",
    "    return leaderboard_score(y_test, y_pred_xr)"
   ]
  },
  {
   "cell_type": "markdown",
   "metadata": {},
   "source": [
    "## SVM"
   ]
  },
  {
   "cell_type": "code",
   "execution_count": 18,
   "metadata": {},
   "outputs": [
    {
     "data": {
      "text/plain": [
       "31.162494374916307"
      ]
     },
     "execution_count": 18,
     "metadata": {},
     "output_type": "execute_result"
    }
   ],
   "source": [
    "svr = SVR(C=100, epsilon=0.05)\n",
    "\n",
    "svr.fit(x_train, y_train)\n",
    "\n",
    "y_pred_svr = svr.predict(x_test)\n",
    "\n",
    "leaderboard_score(y_test, y_pred_svr)"
   ]
  },
  {
   "cell_type": "markdown",
   "metadata": {},
   "source": [
    "Best SVM Regressor: 31.16"
   ]
  },
  {
   "cell_type": "markdown",
   "metadata": {},
   "source": [
    "With normalized data:"
   ]
  },
  {
   "cell_type": "code",
   "execution_count": 94,
   "metadata": {},
   "outputs": [
    {
     "data": {
      "text/plain": [
       "33.854500389750378"
      ]
     },
     "execution_count": 94,
     "metadata": {},
     "output_type": "execute_result"
    }
   ],
   "source": [
    "svr = SVR(C=100, epsilon=0.05)\n",
    "\n",
    "svr.fit(x_norm_train, y_train)\n",
    "\n",
    "y_pred_svr = svr.predict(x_norm_test)\n",
    "\n",
    "leaderboard_score(y_test, y_pred_svr)"
   ]
  },
  {
   "cell_type": "code",
   "execution_count": 162,
   "metadata": {},
   "outputs": [
    {
     "data": {
      "text/plain": [
       "SVR(C=100, cache_size=200, coef0=0.0, degree=3, epsilon=0.05, gamma='auto',\n",
       "  kernel='rbf', max_iter=-1, shrinking=True, tol=0.001, verbose=False)"
      ]
     },
     "execution_count": 162,
     "metadata": {},
     "output_type": "execute_result"
    }
   ],
   "source": [
    "svr"
   ]
  },
  {
   "cell_type": "code",
   "execution_count": 163,
   "metadata": {},
   "outputs": [
    {
     "data": {
      "text/plain": [
       "0.93170901670463047"
      ]
     },
     "execution_count": 163,
     "metadata": {},
     "output_type": "execute_result"
    }
   ],
   "source": [
    "y_pred_svr.std()"
   ]
  },
  {
   "cell_type": "markdown",
   "metadata": {},
   "source": [
    "## Random Forest "
   ]
  },
  {
   "cell_type": "code",
   "execution_count": 170,
   "metadata": {},
   "outputs": [
    {
     "data": {
      "text/plain": [
       "-124.94114388160247"
      ]
     },
     "execution_count": 170,
     "metadata": {},
     "output_type": "execute_result"
    }
   ],
   "source": [
    "rfr = RandomForestRegressor(n_estimators=100, criterion='mae', n_jobs=-1)\n",
    "\n",
    "rfr.fit(x_train, y_train)\n",
    "\n",
    "y_pred_rfr = rfr.predict(x_test)\n",
    "\n",
    "leaderboard_score(y_test, y_pred_rfr)"
   ]
  },
  {
   "cell_type": "code",
   "execution_count": 168,
   "metadata": {},
   "outputs": [
    {
     "data": {
      "text/plain": [
       "RandomForestRegressor(bootstrap=True, criterion='mse', max_depth=None,\n",
       "           max_features='auto', max_leaf_nodes=None,\n",
       "           min_impurity_decrease=0.0, min_impurity_split=None,\n",
       "           min_samples_leaf=1, min_samples_split=2,\n",
       "           min_weight_fraction_leaf=0.0, n_estimators=50, n_jobs=1,\n",
       "           oob_score=False, random_state=None, verbose=0, warm_start=False)"
      ]
     },
     "execution_count": 168,
     "metadata": {},
     "output_type": "execute_result"
    }
   ],
   "source": [
    "rfr"
   ]
  },
  {
   "cell_type": "markdown",
   "metadata": {},
   "source": [
    "## K Nearest Neighbor"
   ]
  },
  {
   "cell_type": "code",
   "execution_count": 210,
   "metadata": {},
   "outputs": [
    {
     "data": {
      "text/plain": [
       "-52.996335101665657"
      ]
     },
     "execution_count": 210,
     "metadata": {},
     "output_type": "execute_result"
    }
   ],
   "source": [
    "knnr = KNeighborsRegressor(n_neighbors=25, n_jobs=-1, weights='distance', p=1, leaf_size=20)\n",
    "\n",
    "knnr.fit(x_train, y_train)\n",
    "\n",
    "y_pred_knnr = knnr.predict(x_test)\n",
    "\n",
    "leaderboard_score(y_test, y_pred_knnr)"
   ]
  },
  {
   "cell_type": "markdown",
   "metadata": {},
   "source": [
    "Best KNN Regressor: -52.99"
   ]
  },
  {
   "cell_type": "code",
   "execution_count": 207,
   "metadata": {},
   "outputs": [
    {
     "data": {
      "text/plain": [
       "KNeighborsRegressor(algorithm='auto', leaf_size=30, metric='minkowski',\n",
       "          metric_params=None, n_jobs=-1, n_neighbors=25, p=1,\n",
       "          weights='distance')"
      ]
     },
     "execution_count": 207,
     "metadata": {},
     "output_type": "execute_result"
    }
   ],
   "source": [
    "knnr"
   ]
  },
  {
   "cell_type": "markdown",
   "metadata": {},
   "source": [
    "## Kernel ridge regression."
   ]
  },
  {
   "cell_type": "code",
   "execution_count": 17,
   "metadata": {},
   "outputs": [
    {
     "data": {
      "text/plain": [
       "0.01997611724882109"
      ]
     },
     "execution_count": 17,
     "metadata": {},
     "output_type": "execute_result"
    }
   ],
   "source": [
    "krr = KernelRidge(alpha=0.1, kernel='rbf')\n",
    "\n",
    "krr.fit(x_train, y_train)\n",
    "\n",
    "y_pred_krr = krr.predict(x_test)\n",
    "\n",
    "leaderboard_score(y_test, y_pred_krr)"
   ]
  },
  {
   "cell_type": "markdown",
   "metadata": {},
   "source": [
    "Best Kernel Ridge Regressor: 0.019"
   ]
  },
  {
   "cell_type": "code",
   "execution_count": 18,
   "metadata": {},
   "outputs": [
    {
     "data": {
      "text/plain": [
       "7.9096085605981905"
      ]
     },
     "execution_count": 18,
     "metadata": {},
     "output_type": "execute_result"
    }
   ],
   "source": [
    "y_pred_krr.std()"
   ]
  },
  {
   "cell_type": "code",
   "execution_count": 97,
   "metadata": {},
   "outputs": [
    {
     "data": {
      "text/plain": [
       "0.0"
      ]
     },
     "execution_count": 97,
     "metadata": {},
     "output_type": "execute_result"
    }
   ],
   "source": [
    "krr = KernelRidge(alpha=0.1, kernel='rbf')\n",
    "\n",
    "krr.fit(x_norm_train, y_train)\n",
    "\n",
    "y_pred_krr = krr.predict(x_test)\n",
    "\n",
    "leaderboard_score(y_test, y_pred_krr)"
   ]
  },
  {
   "cell_type": "code",
   "execution_count": 17,
   "metadata": {},
   "outputs": [
    {
     "data": {
      "text/plain": [
       "KernelRidge(alpha=0.1, coef0=1, degree=3, gamma=None, kernel='rbf',\n",
       "      kernel_params=None)"
      ]
     },
     "execution_count": 17,
     "metadata": {},
     "output_type": "execute_result"
    }
   ],
   "source": [
    "krr"
   ]
  },
  {
   "cell_type": "markdown",
   "metadata": {},
   "source": [
    "## Bayesian Ridge Regression"
   ]
  },
  {
   "cell_type": "code",
   "execution_count": 39,
   "metadata": {},
   "outputs": [
    {
     "data": {
      "text/plain": [
       "-77.328294818452918"
      ]
     },
     "execution_count": 39,
     "metadata": {},
     "output_type": "execute_result"
    }
   ],
   "source": [
    "brr = BayesianRidge(n_iter=500, compute_score=True, fit_intercept=True, lambda_1=0.001, lambda_2=0.001)\n",
    "brr.fit(x_train, y_train)\n",
    "\n",
    "y_pred_brr = brr.predict(x_test)\n",
    "\n",
    "leaderboard_score(y_test, y_pred_brr)"
   ]
  },
  {
   "cell_type": "markdown",
   "metadata": {},
   "source": [
    "Best Bayesian Ridge Regressor: -77.32"
   ]
  },
  {
   "cell_type": "code",
   "execution_count": 40,
   "metadata": {},
   "outputs": [
    {
     "data": {
      "text/plain": [
       "2261.6059384263367"
      ]
     },
     "execution_count": 40,
     "metadata": {},
     "output_type": "execute_result"
    }
   ],
   "source": [
    "y_pred_brr.std()"
   ]
  },
  {
   "cell_type": "code",
   "execution_count": 41,
   "metadata": {},
   "outputs": [
    {
     "data": {
      "text/plain": [
       "BayesianRidge(alpha_1=1e-06, alpha_2=1e-06, compute_score=True, copy_X=True,\n",
       "       fit_intercept=True, lambda_1=0.001, lambda_2=0.001, n_iter=500,\n",
       "       normalize=False, tol=0.001, verbose=False)"
      ]
     },
     "execution_count": 41,
     "metadata": {},
     "output_type": "execute_result"
    }
   ],
   "source": [
    "brr"
   ]
  },
  {
   "cell_type": "markdown",
   "metadata": {},
   "source": [
    "## Stochastic Gradient Descent"
   ]
  },
  {
   "cell_type": "code",
   "execution_count": 32,
   "metadata": {},
   "outputs": [
    {
     "data": {
      "text/plain": [
       "-1.8724508072426123e+19"
      ]
     },
     "execution_count": 32,
     "metadata": {},
     "output_type": "execute_result"
    }
   ],
   "source": [
    "sgdr = SGDRegressor(max_iter=1000, tol=0.1)\n",
    "sgdr.fit(x_train, y_train)\n",
    "\n",
    "y_pred_sgdr = sgdr.predict(x_test)\n",
    "\n",
    "leaderboard_score(y_test, y_pred_sgdr)"
   ]
  },
  {
   "cell_type": "markdown",
   "metadata": {},
   "source": [
    "With Normalized data:"
   ]
  },
  {
   "cell_type": "code",
   "execution_count": 89,
   "metadata": {},
   "outputs": [
    {
     "data": {
      "text/plain": [
       "-91.398607382226899"
      ]
     },
     "execution_count": 89,
     "metadata": {},
     "output_type": "execute_result"
    }
   ],
   "source": [
    "sgdr = SGDRegressor(max_iter=1000, tol=0.1)\n",
    "sgdr.fit(x_norm_train, y_train)\n",
    "\n",
    "y_pred_sgdr = sgdr.predict(x_norm_test)\n",
    "\n",
    "leaderboard_score(y_test, y_pred_sgdr)"
   ]
  },
  {
   "cell_type": "markdown",
   "metadata": {},
   "source": [
    "### SGD + RBF Sampler"
   ]
  },
  {
   "cell_type": "code",
   "execution_count": 41,
   "metadata": {},
   "outputs": [
    {
     "data": {
      "text/plain": [
       "-86.880604356552809"
      ]
     },
     "execution_count": 41,
     "metadata": {},
     "output_type": "execute_result"
    }
   ],
   "source": [
    "rbf_feature = RBFSampler(gamma=1)\n",
    "sgdr = SGDRegressor(max_iter=1000, tol=0.1)\n",
    "sgdr.fit(rbf_feature.fit_transform(x_train), y_train)\n",
    "\n",
    "y_pred_sgdr = sgdr.predict(rbf_feature.transform(x_test))\n",
    "\n",
    "leaderboard_score(y_test, y_pred_sgdr)"
   ]
  },
  {
   "cell_type": "markdown",
   "metadata": {},
   "source": [
    "with normalized data:"
   ]
  },
  {
   "cell_type": "code",
   "execution_count": 95,
   "metadata": {},
   "outputs": [
    {
     "data": {
      "text/plain": [
       "-89.154581756455713"
      ]
     },
     "execution_count": 95,
     "metadata": {},
     "output_type": "execute_result"
    }
   ],
   "source": [
    "rbf_feature = RBFSampler(gamma=1)\n",
    "sgdr = SGDRegressor(max_iter=1000, tol=0.1)\n",
    "sgdr.fit(rbf_feature.fit_transform(x_norm_train), y_train)\n",
    "\n",
    "y_pred_sgdr = sgdr.predict(rbf_feature.transform(x_norm_test))\n",
    "\n",
    "leaderboard_score(y_test, y_pred_sgdr)"
   ]
  },
  {
   "cell_type": "markdown",
   "metadata": {},
   "source": [
    "Best SGD Regressor: -86.88"
   ]
  },
  {
   "cell_type": "code",
   "execution_count": 42,
   "metadata": {},
   "outputs": [
    {
     "data": {
      "text/plain": [
       "561.67760102905629"
      ]
     },
     "execution_count": 42,
     "metadata": {},
     "output_type": "execute_result"
    }
   ],
   "source": [
    "y_pred_sgdr.std()"
   ]
  },
  {
   "cell_type": "code",
   "execution_count": 43,
   "metadata": {},
   "outputs": [
    {
     "data": {
      "text/plain": [
       "SGDRegressor(alpha=0.0001, average=False, epsilon=0.1, eta0=0.01,\n",
       "       fit_intercept=True, l1_ratio=0.15, learning_rate='invscaling',\n",
       "       loss='squared_loss', max_iter=1000, n_iter=None, penalty='l2',\n",
       "       power_t=0.25, random_state=None, shuffle=True, tol=0.1, verbose=0,\n",
       "       warm_start=False)"
      ]
     },
     "execution_count": 43,
     "metadata": {},
     "output_type": "execute_result"
    }
   ],
   "source": [
    "sgdr"
   ]
  },
  {
   "cell_type": "markdown",
   "metadata": {},
   "source": [
    "## Adaboost with SGD"
   ]
  },
  {
   "cell_type": "code",
   "execution_count": 27,
   "metadata": {},
   "outputs": [
    {
     "data": {
      "text/plain": [
       "-1.9815663836043556e+18"
      ]
     },
     "execution_count": 27,
     "metadata": {},
     "output_type": "execute_result"
    }
   ],
   "source": [
    "adasgd = AdaBoostRegressor(base_estimator=SGDRegressor(max_iter=1000), n_estimators=100, learning_rate=0.1)\n",
    "adasgd.fit(x_train, y_train)\n",
    "\n",
    "y_pred_adasgd = adasgd.predict(x_test)\n",
    "\n",
    "leaderboard_score(y_test, y_pred_adasgd)"
   ]
  },
  {
   "cell_type": "markdown",
   "metadata": {},
   "source": [
    "Best Regressor: 30.019"
   ]
  },
  {
   "cell_type": "markdown",
   "metadata": {},
   "source": [
    "With Normalized data:"
   ]
  },
  {
   "cell_type": "code",
   "execution_count": 96,
   "metadata": {},
   "outputs": [
    {
     "data": {
      "text/plain": [
       "-2873.2610938329208"
      ]
     },
     "execution_count": 96,
     "metadata": {},
     "output_type": "execute_result"
    }
   ],
   "source": [
    "adasgd = AdaBoostRegressor(base_estimator=SGDRegressor(max_iter=1000), n_estimators=100, learning_rate=0.1)\n",
    "adasgd.fit(x_norm_train, y_train)\n",
    "\n",
    "y_pred_adasgd = adasgd.predict(x_norm_test)\n",
    "\n",
    "leaderboard_score(y_test, y_pred_adasgd)"
   ]
  },
  {
   "cell_type": "code",
   "execution_count": 28,
   "metadata": {},
   "outputs": [
    {
     "data": {
      "text/plain": [
       "1.1157966020808546e+19"
      ]
     },
     "execution_count": 28,
     "metadata": {},
     "output_type": "execute_result"
    }
   ],
   "source": [
    "y_pred_adasgd.std()"
   ]
  },
  {
   "cell_type": "code",
   "execution_count": 26,
   "metadata": {},
   "outputs": [
    {
     "data": {
      "text/plain": [
       "AdaBoostRegressor(base_estimator=SVR(C=100, cache_size=200, coef0=0.0, degree=3, epsilon=0.05, gamma='auto',\n",
       "  kernel='rbf', max_iter=-1, shrinking=True, tol=0.001, verbose=False),\n",
       "         learning_rate=0.1, loss='linear', n_estimators=10,\n",
       "         random_state=None)"
      ]
     },
     "execution_count": 26,
     "metadata": {},
     "output_type": "execute_result"
    }
   ],
   "source": [
    "adasgd"
   ]
  },
  {
   "cell_type": "markdown",
   "metadata": {},
   "source": [
    "## Adaboost with SVM"
   ]
  },
  {
   "cell_type": "code",
   "execution_count": 24,
   "metadata": {},
   "outputs": [
    {
     "data": {
      "text/plain": [
       "30.019282218125554"
      ]
     },
     "execution_count": 24,
     "metadata": {},
     "output_type": "execute_result"
    }
   ],
   "source": [
    "adasvr = AdaBoostRegressor(base_estimator= SVR(C=100, epsilon=0.05), n_estimators=10, learning_rate=0.1)\n",
    "adasvr.fit(x_train, y_train)\n",
    "\n",
    "y_pred_adasvr = adasvr.predict(x_test)\n",
    "\n",
    "leaderboard_score(y_test, y_pred_adasvr)"
   ]
  },
  {
   "cell_type": "markdown",
   "metadata": {},
   "source": [
    "Best Regressor: 30.019"
   ]
  },
  {
   "cell_type": "code",
   "execution_count": 25,
   "metadata": {},
   "outputs": [
    {
     "data": {
      "text/plain": [
       "0.63087321136755414"
      ]
     },
     "execution_count": 25,
     "metadata": {},
     "output_type": "execute_result"
    }
   ],
   "source": [
    "y_pred_adasvr.std()"
   ]
  },
  {
   "cell_type": "code",
   "execution_count": 26,
   "metadata": {},
   "outputs": [
    {
     "data": {
      "text/plain": [
       "AdaBoostRegressor(base_estimator=SVR(C=100, cache_size=200, coef0=0.0, degree=3, epsilon=0.05, gamma='auto',\n",
       "  kernel='rbf', max_iter=-1, shrinking=True, tol=0.001, verbose=False),\n",
       "         learning_rate=0.1, loss='linear', n_estimators=10,\n",
       "         random_state=None)"
      ]
     },
     "execution_count": 26,
     "metadata": {},
     "output_type": "execute_result"
    }
   ],
   "source": [
    "adasvr"
   ]
  },
  {
   "cell_type": "markdown",
   "metadata": {},
   "source": [
    "## Ensembling"
   ]
  },
  {
   "cell_type": "markdown",
   "metadata": {},
   "source": [
    "### Kernel Ridge Regression and SVM"
   ]
  },
  {
   "cell_type": "code",
   "execution_count": 31,
   "metadata": {},
   "outputs": [
    {
     "data": {
      "text/plain": [
       "42.718521149260233"
      ]
     },
     "execution_count": 31,
     "metadata": {},
     "output_type": "execute_result"
    }
   ],
   "source": [
    "leaderboard_score(y_test, (y_pred_krr+y_pred_svr)/2)"
   ]
  },
  {
   "cell_type": "code",
   "execution_count": 98,
   "metadata": {},
   "outputs": [
    {
     "data": {
      "text/plain": [
       "42.425419873867199"
      ]
     },
     "execution_count": 98,
     "metadata": {},
     "output_type": "execute_result"
    }
   ],
   "source": [
    "leaderboard_score(y_test, (y_pred_krr+y_pred_svr)/2)"
   ]
  },
  {
   "cell_type": "markdown",
   "metadata": {},
   "source": [
    "# Submission"
   ]
  },
  {
   "cell_type": "markdown",
   "metadata": {},
   "source": [
    "##  Attempt 1:  XGBoost"
   ]
  },
  {
   "cell_type": "code",
   "execution_count": 110,
   "metadata": {},
   "outputs": [
    {
     "data": {
      "text/plain": [
       "XGBRegressor(base_score=0.5, colsample_bylevel=1, colsample_bytree=1, gamma=0,\n",
       "       learning_rate=0.01, max_delta_step=0, max_depth=8,\n",
       "       min_child_weight=1, missing=None, n_estimators=200, nthread=-1,\n",
       "       objective='reg:linear', reg_alpha=0, reg_lambda=1,\n",
       "       scale_pos_weight=1, seed=0, silent=True, subsample=0.5)"
      ]
     },
     "execution_count": 110,
     "metadata": {},
     "output_type": "execute_result"
    }
   ],
   "source": [
    "xr = xgboost.XGBRegressor(n_estimators=200, learning_rate=0.01, max_depth=8, subsample=0.5, reg_alpha=0, reg_lambda=1)\n",
    "xr.fit(x, y)"
   ]
  },
  {
   "cell_type": "code",
   "execution_count": 111,
   "metadata": {},
   "outputs": [],
   "source": [
    "y_sub = xr.predict(test_df)"
   ]
  },
  {
   "cell_type": "code",
   "execution_count": 112,
   "metadata": {},
   "outputs": [
    {
     "data": {
      "text/plain": [
       "array([ 1598.69372559,  1691.77563477,  2301.03686523, ...,  4845.50390625,\n",
       "        3221.55883789,  2260.63842773], dtype=float32)"
      ]
     },
     "execution_count": 112,
     "metadata": {},
     "output_type": "execute_result"
    }
   ],
   "source": [
    "y_sub"
   ]
  },
  {
   "cell_type": "code",
   "execution_count": 119,
   "metadata": {},
   "outputs": [],
   "source": [
    "sub_df = pd.DataFrame({'url_id': test_df.index.tolist(),'shares': y_sub})\n",
    "# Shuffle the columns to the correct positions\n",
    "sub_df = sub_df[['url_id', 'shares']]\n",
    "# Save to CSV\n",
    "sub_df.to_csv('submission1.csv', index=False)"
   ]
  },
  {
   "cell_type": "markdown",
   "metadata": {},
   "source": [
    "**Actual Leaderboard Score:** -40.7677 \n",
    "\n",
    "**Actual MAPE:** 140.767"
   ]
  },
  {
   "cell_type": "markdown",
   "metadata": {},
   "source": [
    "##  Attempt 2:  SVM"
   ]
  },
  {
   "cell_type": "code",
   "execution_count": null,
   "metadata": {},
   "outputs": [
    {
     "data": {
      "text/plain": [
       "SVR(C=100, cache_size=200, coef0=0.0, degree=3, epsilon=0.05, gamma='auto',\n",
       "  kernel='rbf', max_iter=-1, shrinking=True, tol=0.001, verbose=False)"
      ]
     },
     "execution_count": 56,
     "metadata": {},
     "output_type": "execute_result"
    }
   ],
   "source": [
    "svr = SVR(C=100, epsilon=0.05)\n",
    "svr.fit(x, y)"
   ]
  },
  {
   "cell_type": "code",
   "execution_count": 161,
   "metadata": {},
   "outputs": [],
   "source": [
    "y_sub = svr.predict(test_df)"
   ]
  },
  {
   "cell_type": "code",
   "execution_count": 158,
   "metadata": {},
   "outputs": [],
   "source": [
    "sub_df = pd.DataFrame({'url_id': test_df.index.tolist(),'shares': y_sub})\n",
    "# Shuffle the columns to the correct positions\n",
    "sub_df = sub_df[['url_id', 'shares']]\n",
    "# Save to CSV\n",
    "sub_df.to_csv('submission2.csv', index=False)"
   ]
  },
  {
   "cell_type": "markdown",
   "metadata": {},
   "source": [
    "**Actual Leaderboard Score**: 33.8468\n",
    "\n",
    "**Actual MAPE**: 66.15"
   ]
  },
  {
   "cell_type": "markdown",
   "metadata": {},
   "source": [
    "##  Attempt 3:  SVM + KRR"
   ]
  },
  {
   "cell_type": "markdown",
   "metadata": {},
   "source": [
    "**This is the final version that was submited**"
   ]
  },
  {
   "cell_type": "code",
   "execution_count": 68,
   "metadata": {},
   "outputs": [
    {
     "data": {
      "text/plain": [
       "SVR(C=100, cache_size=200, coef0=0.0, degree=3, epsilon=0.05, gamma='auto',\n",
       "  kernel='rbf', max_iter=-1, shrinking=True, tol=0.001, verbose=False)"
      ]
     },
     "execution_count": 68,
     "metadata": {},
     "output_type": "execute_result"
    }
   ],
   "source": [
    "svr = SVR(C=100, epsilon=0.05)\n",
    "svr.fit(x, y)"
   ]
  },
  {
   "cell_type": "code",
   "execution_count": 69,
   "metadata": {},
   "outputs": [
    {
     "data": {
      "text/plain": [
       "KernelRidge(alpha=0.1, coef0=1, degree=3, gamma=None, kernel='rbf',\n",
       "      kernel_params=None)"
      ]
     },
     "execution_count": 69,
     "metadata": {},
     "output_type": "execute_result"
    }
   ],
   "source": [
    "krr = KernelRidge(alpha=0.1, kernel='rbf')\n",
    "krr.fit(x, y)"
   ]
  },
  {
   "cell_type": "code",
   "execution_count": 70,
   "metadata": {},
   "outputs": [],
   "source": [
    "y_ens_krrr = krr.predict(test_df)\n",
    "y_ens_svr = svr.predict(test_df)"
   ]
  },
  {
   "cell_type": "code",
   "execution_count": 71,
   "metadata": {},
   "outputs": [],
   "source": [
    "y_ens1 = (y_ens_xr+y_ens_svr)/2"
   ]
  },
  {
   "cell_type": "code",
   "execution_count": 22,
   "metadata": {},
   "outputs": [],
   "source": [
    "sub_df = pd.DataFrame({'url_id': test_df.index.tolist(),'shares': y_ens1})\n",
    "# Shuffle the columns to the correct positions\n",
    "sub_df = sub_df[['url_id', 'shares']]\n",
    "# Save to CSV\n",
    "sub_df.to_csv('submission3.csv', index=False)"
   ]
  }
 ],
 "metadata": {
  "kernelspec": {
   "display_name": "Python 3",
   "language": "python",
   "name": "python3"
  },
  "language_info": {
   "codemirror_mode": {
    "name": "ipython",
    "version": 3
   },
   "file_extension": ".py",
   "mimetype": "text/x-python",
   "name": "python",
   "nbconvert_exporter": "python",
   "pygments_lexer": "ipython3",
   "version": "3.6.3"
  }
 },
 "nbformat": 4,
 "nbformat_minor": 2
}
